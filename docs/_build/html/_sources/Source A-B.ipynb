{
  "cells": [
    {
      "cell_type": "markdown",
      "id": "f500ac48",
      "metadata": {},
      "source": [
        "# **Source A-B: Legislator and Sponsorship Data Processing**\n",
        "\n",
        "```{admonition} Overview\n",
        ":class: tip\n",
        "This notebook processes bill sponsorship data from the 119th U.S. Congress to generate two foundational datasets for the Bridge Grades methodology:\n",
        "\n",
        "- **Source A:** *Authors of Bills with Cross Party Sponsors* - Ranks legislators by how many of their sponsored bills received bipartisan cosponsorship\n",
        "- **Source B:** *Ranked People who Cosponsor Bills* - Ranks legislators by how often they cosponsored bills from the opposite party\n",
        "\n",
        "These datasets serve as key inputs for computing individual Bridge Grades by analyzing patterns of bipartisan legislative collaboration.\n",
        "```\n",
        "## **Data Sources**\n",
        "\n",
        "### **Input Files**\n",
        "- **`US_119_bill_sponsorships.csv`** - Bill sponsorship records from the 119th Congress (Plural Policy)\n",
        "- **`plural_legislators_retired_with_bioguide.csv`** - Historical legislator biographical data\n",
        "- **`plural_legislators_with_bioguide.csv`** - Current legislator biographical data\n",
        "\n",
        "### **Data Source Details**\n",
        "- **Source:** [Plural Policy](https://americaspoliticalpulse.com/data/)\n",
        "- **Congress:** 119th U.S. Congress\n",
        "- **Download Date:** August 8, 2025\n",
        "- **Coverage:** Bill sponsorship records and biographical details of current and historical legislators\n",
        "\n",
        "---\n",
        "\n",
        "## **Outputs**\n",
        "\n",
        "### **Source A: Authors of Bills with Cross Party Sponsors**\n",
        "**File:** `bridge_grade_source_a_cross_party_supported_bills.csv` \n",
        "\n",
        "**Columns:**\n",
        "- `primary_name`: Name of the primary sponsor\n",
        "- `primary_bioguide_id`: Unique legislator identifier\n",
        "- `num_bills_with_cross_party_cosponsors`: Count of sponsored bills with bipartisan support\n",
        "- `rank`: Ranking based on bipartisan support count\n",
        "\n",
        "**Interpretation:** Higher rankings indicate legislators whose bills attract more cross-party support, suggesting bipartisan appeal.\n",
        "\n",
        "### **Source B: Ranked People who Cosponsor Bills**\n",
        "**File:** `bridge_grade_source_b_cross_party_cosponsors.csv` \n",
        "\n",
        "**Columns:**\n",
        "- `name`: Name of the cosponsor\n",
        "- `bioguide_id`: Unique legislator identifier\n",
        "- `num_cross_party_cosponsored_bills`: Count of bills cosponsored from opposite party\n",
        "- `rank`: Ranking based on cross-party cosponsorship count\n",
        "\n",
        "**Interpretation:** Higher rankings indicate legislators who more actively support legislation from the opposite party, showing bipartisan engagement.\n",
        "\n",
        "---\n",
        "\n",
        "## **Technical Requirements**\n",
        "\n",
        "### **Dependencies**\n",
        "- `pandas`: Data manipulation and analysis\n",
        "- `rapidfuzz`: Fuzzy string matching\n",
        "- `tqdm`: Progress tracking\n",
        "- `plotly.express`: Data visualization\n",
        "\n",
        "### **Performance Notes**\n",
        "- Fuzzy matching is computationally intensive but necessary for data quality\n",
        "- Conservative matching threshold balances accuracy with coverage\n",
        "- All original records are preserved for transparency\n",
        "\n",
        "---"
      ]
    },
    {
      "cell_type": "markdown",
      "id": "f213275c",
      "metadata": {},
      "source": [
        "##  **Notebook Walkthrough: Preprocessing for Bridge Grades: Legislator and Sponsorship Data**\n",
        "\n",
        "This notebook prepares the input data used to generate two foundational resources in the Bridge Grades methodology:\n",
        "\n",
        "- **Source A:** *Authors of Bills with Cross Party Sponsors*  \n",
        "- **Source B:** *Ranked People who Cosponsor Bills*\n",
        "\n",
        "These resources serve as the basis for computing individual Bridge Grades by analyzing patterns of bipartisan legislative collaboration in the U.S. Congress.\n",
        "\n",
        "The datasets processed here correspond to the **119th U.S. Congress** and were downloaded from the public data portal at [Plural Policy](https://americaspoliticalpulse.com/data/).\n",
        "\n",
        "- **Date downloaded:** August 8, 2025  \n",
        "- **Data includes:** Bill sponsorship records and biographical details of both current and historical legislators.\n",
        "- **Download instructions:**\n",
        "\n",
        "1. Scroll down to United States on the List (*United States 119th Congress*). Or download directly [Here](https://data.openstates.org/csv/latest/US_119_csv_2bmRrtyLymbbJfXI2C8Hqz.zip).\n",
        "\n",
        "2. Go to US --> 119 --> US_119_bill_sponsorships.csv"
      ]
    },
    {
      "cell_type": "code",
      "execution_count": null,
      "id": "e7a2d20d",
      "metadata": {
        "id": "e7a2d20d"
      },
      "outputs": [],
      "source": [
        "# Install and import required libraries\n",
        "\n",
        "!pip install rapidfuzz --quiet\n",
        "\n",
        "import pandas as pd\n",
        "from rapidfuzz import process, fuzz\n",
        "from tqdm.notebook import tqdm\n",
        "import plotly.express as px\n",
        "import pandas as pd\n",
        "import numpy as np"
      ]
    },
    {
      "cell_type": "code",
      "execution_count": null,
      "id": "f7053335",
      "metadata": {
        "id": "f7053335"
      },
      "outputs": [],
      "source": [
        "# Uncomment to run from colab in google drive\n",
        "# # Load bill sponsorship records (includes both sponsors and cosponsors)\n",
        "# sponsorships = pd.read_csv('/content/drive/MyDrive/Bridge Grades Snapshot August/Data/Source A-B/Input files/US_119_bill_sponsorships.csv', encoding=\"latin1\")\n",
        "\n",
        "# # Read in legislators data from plural\n",
        "# plural_legislators_current = pd.read_csv(\"/content/drive/MyDrive/Bridge Grades Snapshot August/Data/Source A-B/Input files/plural_legislators_with_bioguide.csv\")\n",
        "# plural_legislators_retired = pd.read_csv(\"/content/drive/MyDrive/Bridge Grades Snapshot August/Data/Source A-B/Input files/plural_legislators_retired_with_bioguide.csv\")\n",
        "\n",
        "# #combine retired and current legislators into a single dataframe\n",
        "# plural_legislators = pd.concat([plural_legislators_current, plural_legislators_retired])\n",
        "\n",
        "# # Drop legislators without a bioguide_id in the plural_legislators file\n",
        "# plural_legislators = plural_legislators[plural_legislators[\"bioguide_id\"].notna()]"
      ]
    },
    {
      "cell_type": "markdown",
      "id": "06034e22",
      "metadata": {
        "id": "06034e22"
      },
      "source": [
        "```python\n",
        "# Run from local machine\n",
        "# Load bill sponsorship records (includes both sponsors and cosponsors)\n",
        "sponsorships = pd.read_csv('../Data/Source A-B/Input files/US_119_bill_sponsorships.csv', encoding=\"latin1\")\n",
        "\n",
        "# Read in legislators data from plural\n",
        "plural_legislators_current = pd.read_csv(\"../Data/Source A-B/Input files/plural_legislators_with_bioguide.csv\")\n",
        "plural_legislators_retired = pd.read_csv(\"../Data/Source A-B/Input files/plural_legislators_retired_with_bioguide.csv\")\n",
        "\n",
        "#combine retired and current legislators into a single dataframe\n",
        "plural_legislators = pd.concat([plural_legislators_current, plural_legislators_retired])\n",
        "\n",
        "# Drop legislators without a bioguide_id in the plural_legislators file\n",
        "plural_legislators = plural_legislators[plural_legislators[\"bioguide_id\"].notna()]\n",
        "```"
      ]
    },
    {
      "cell_type": "markdown",
      "id": "c2cc56c2",
      "metadata": {
        "id": "c2cc56c2"
      },
      "source": [
        "## **Filter and Prepare Legislator Records**"
      ]
    },
    {
      "cell_type": "markdown",
      "id": "ab0de952",
      "metadata": {
        "id": "ab0de952"
      },
      "source": [
        "```python\n",
        "# Do some variable renaming to facilitate the merge\n",
        "plural_legislators = plural_legislators.rename(columns={\"id\": \"person_id\"}) #rename id to person_id (the column name in sponsorships file)\n",
        "```"
      ]
    },
    {
      "cell_type": "code",
      "execution_count": null,
      "id": "8e07bf3b",
      "metadata": {
        "colab": {
          "base_uri": "https://localhost:8080/",
          "height": 210
        },
        "id": "8e07bf3b",
        "outputId": "db7cd8dd-ea29-4d0d-dce8-a67ff4841e07"
      },
      "outputs": [
        {
          "data": {
            "text/plain": [
              "party\n",
              "Republican     360\n",
              "Democratic     352\n",
              "Independent      4\n",
              "Name: count, dtype: int64"
            ]
          },
          "execution_count": 6,
          "metadata": {},
          "output_type": "execute_result"
        }
      ],
      "source": [
        "plural_legislators[\"party\"].value_counts(dropna=False) # Check for missing values in the party column"
      ]
    },
    {
      "cell_type": "code",
      "execution_count": null,
      "id": "0fd45c9a",
      "metadata": {
        "colab": {
          "base_uri": "https://localhost:8080/",
          "height": 178
        },
        "id": "0fd45c9a",
        "outputId": "428ae5f6-ecd8-4e9e-df49-a7a4a0ff80d2"
      },
      "outputs": [
        {
          "data": {
            "text/plain": [
              "role_type\n",
              "lower    641\n",
              "upper     75\n",
              "Name: count, dtype: int64"
            ]
          },
          "execution_count": 7,
          "metadata": {},
          "output_type": "execute_result"
        }
      ],
      "source": [
        "plural_legislators[\"role_type\"].value_counts(dropna=False) # Check for missing values in the role_type column"
      ]
    },
    {
      "cell_type": "code",
      "execution_count": null,
      "id": "d2e4e1db",
      "metadata": {
        "id": "d2e4e1db"
      },
      "outputs": [],
      "source": [
        "# Create a new column in plural_legislators called Chamber that is sen if the role_type is upper and House if the role_type is lower\n",
        "plural_legislators[\"type\"] = plural_legislators[\"role_type\"].apply(lambda x: \"sen\" if x == \"upper\" else \"rep\")"
      ]
    },
    {
      "cell_type": "code",
      "execution_count": null,
      "id": "79428055",
      "metadata": {
        "colab": {
          "base_uri": "https://localhost:8080/",
          "height": 178
        },
        "id": "79428055",
        "outputId": "30ad13b5-8bc2-4f37-fe4f-b2007068957c"
      },
      "outputs": [
        {
          "data": {
            "text/plain": [
              "type\n",
              "rep    641\n",
              "sen     75\n",
              "Name: count, dtype: int64"
            ]
          },
          "execution_count": 9,
          "metadata": {},
          "output_type": "execute_result"
        }
      ],
      "source": [
        "# Check the values of the type column\n",
        "plural_legislators[\"type\"].value_counts()"
      ]
    },
    {
      "cell_type": "code",
      "execution_count": null,
      "id": "1d4e28f3",
      "metadata": {
        "id": "1d4e28f3"
      },
      "outputs": [],
      "source": [
        "# Give a state and district column to the plural_legislators file\n",
        "us_state_abbrev = {\n",
        "    'Alabama': 'AL', 'Alaska': 'AK', 'Arizona': 'AZ', 'Arkansas': 'AR',\n",
        "    'California': 'CA', 'Colorado': 'CO', 'Connecticut': 'CT', 'Delaware': 'DE',\n",
        "    'Florida': 'FL', 'Georgia': 'GA', 'Hawaii': 'HI', 'Idaho': 'ID',\n",
        "    'Illinois': 'IL', 'Indiana': 'IN', 'Iowa': 'IA', 'Kansas': 'KS',\n",
        "    'Kentucky': 'KY', 'Louisiana': 'LA', 'Maine': 'ME', 'Maryland': 'MD',\n",
        "    'Massachusetts': 'MA', 'Michigan': 'MI', 'Minnesota': 'MN', 'Mississippi': 'MS',\n",
        "    'Missouri': 'MO', 'Montana': 'MT', 'Nebraska': 'NE', 'Nevada': 'NV',\n",
        "    'New Hampshire': 'NH', 'New Jersey': 'NJ', 'New Mexico': 'NM', 'New York': 'NY',\n",
        "    'North Carolina': 'NC', 'North Dakota': 'ND', 'Ohio': 'OH', 'Oklahoma': 'OK',\n",
        "    'Oregon': 'OR', 'Pennsylvania': 'PA', 'Rhode Island': 'RI', 'South Carolina': 'SC',\n",
        "    'South Dakota': 'SD', 'Tennessee': 'TN', 'Texas': 'TX', 'Utah': 'UT',\n",
        "    'Vermont': 'VT', 'Virginia': 'VA', 'Washington': 'WA', 'West Virginia': 'WV',\n",
        "    'Wisconsin': 'WI', 'Wyoming': 'WY'\n",
        "}\n",
        "plural_legislators = plural_legislators.rename(columns={\"district\": \"compounded_district\"})\n",
        "# Create district and state columns in the plural_legislators file\n",
        "def extract_state_and_district(row):\n",
        "    district_val = row[\"compounded_district\"]\n",
        "    type_val = row[\"type\"]\n",
        "\n",
        "    if type_val == \"rep\" and \"-\" in str(district_val):\n",
        "        state, district_number = district_val.split(\"-\", 1)\n",
        "        return pd.Series([state, district_number])\n",
        "    elif type_val == \"sen\":\n",
        "        # Map full name to abbreviation\n",
        "        state_abbrev = us_state_abbrev.get(district_val, np.nan)\n",
        "        return pd.Series([state_abbrev, np.nan])\n",
        "    else:\n",
        "        return pd.Series([np.nan, np.nan])"
      ]
    },
    {
      "cell_type": "code",
      "execution_count": null,
      "id": "d74b2cb0",
      "metadata": {
        "id": "d74b2cb0"
      },
      "outputs": [],
      "source": [
        "# Apply the function to the DataFrame\n",
        "plural_legislators[[\"state\", \"district\"]] = plural_legislators.apply(extract_state_and_district, axis=1)"
      ]
    },
    {
      "cell_type": "markdown",
      "id": "ec41aeda",
      "metadata": {
        "id": "ec41aeda"
      },
      "source": [
        "### **Merge bioguides to sponsorships**"
      ]
    },
    {
      "cell_type": "code",
      "execution_count": null,
      "id": "134fa402",
      "metadata": {
        "id": "134fa402"
      },
      "outputs": [],
      "source": [
        "# Merge the sponsorships with the plural legislators to get the bioguide_id into the sponsorships file\n",
        "sponsorships_with_bioguide = pd.merge(\n",
        "    sponsorships,\n",
        "    plural_legislators[[\"bioguide_id\", \"person_id\"]],\n",
        "    on=\"person_id\",\n",
        "    how=\"left\"\n",
        ")"
      ]
    },
    {
      "cell_type": "code",
      "execution_count": null,
      "id": "b3cf7dd0",
      "metadata": {
        "colab": {
          "base_uri": "https://localhost:8080/"
        },
        "id": "b3cf7dd0",
        "outputId": "c316ab66-8bf8-4d45-d515-2e5bb3094a6d"
      },
      "outputs": [
        {
          "name": "stdout",
          "output_type": "stream",
          "text": [
            "Matched:  85302\n",
            "Not matched:  3874\n"
          ]
        }
      ],
      "source": [
        "# How many records are missing a bioguide_id?\n",
        "print(\"Matched: \", sponsorships_with_bioguide[sponsorships_with_bioguide[\"bioguide_id\"].notna()].shape[0])\n",
        "# How many records are missing a person_id?\n",
        "print(\"Not matched: \", sponsorships_with_bioguide[sponsorships_with_bioguide[\"bioguide_id\"].isna()].shape[0])"
      ]
    },
    {
      "cell_type": "markdown",
      "id": "beaafb2f",
      "metadata": {},
      "source": [
        "Now let's save the non-matched sponsorships and save the unique legislators that were not matched\n"
      ]
    },
    {
      "cell_type": "code",
      "execution_count": null,
      "id": "b28f690a",
      "metadata": {
        "colab": {
          "base_uri": "https://localhost:8080/"
        },
        "id": "b28f690a",
        "outputId": "1520074d-cffb-4473-85f4-4c1ffc33e43d"
      },
      "outputs": [
        {
          "data": {
            "text/plain": [
              "['Christopher S. Murphy',\n",
              " 'John K. Fetterman',\n",
              " 'Ben R. LujÃ¡n',\n",
              " 'John F. Reed',\n",
              " 'Randy K. Weber',\n",
              " 'Mark B. Messmer',\n",
              " 'William R. Timmons',\n",
              " 'John J. McGuire',\n",
              " 'Robert F. Onder',\n",
              " 'Addison P. McDowell',\n",
              " 'Donald S. Beyer',\n",
              " 'Marlin A. Stutzman',\n",
              " 'Jennifer A. Kiggans',\n",
              " 'Nicholas J. Begich',\n",
              " 'Craig A. Goldman',\n",
              " 'Riley M. Moore',\n",
              " 'Thomas H. Kean',\n",
              " 'Eugene Simon Vindman',\n",
              " 'Gilbert Ray Cisneros',\n",
              " 'Robert P. Bresnahan',\n",
              " 'Herbert C. Conaway',\n",
              " 'Janelle S. Bynum',\n",
              " 'John W. Mannion',\n",
              " 'Abraham J. Hamadeh',\n",
              " 'Sam T. Liccardo',\n",
              " 'David J. Taylor',\n",
              " 'Luz M. Rivas',\n",
              " 'Pablo Jose HernÃ¡ndez',\n",
              " 'Kimberlyn King-Hinds',\n",
              " 'Jacklyn Rosen',\n",
              " 'Ben R. Lujan',\n",
              " 'David McCormick',\n",
              " 'J. D. Vance']"
            ]
          },
          "execution_count": 14,
          "metadata": {},
          "output_type": "execute_result"
        }
      ],
      "source": [
        "non_matched_sponsorships = sponsorships_with_bioguide[sponsorships_with_bioguide[\"bioguide_id\"].isna()]\n",
        "unmatched_names = non_matched_sponsorships[\"name\"].unique()\n",
        "unmatched_names = unmatched_names.tolist()\n",
        "unmatched_names"
      ]
    },
    {
      "cell_type": "markdown",
      "id": "a0247137",
      "metadata": {},
      "source": [
        "Here we will use fuzzy matching to get the best matches and then manually check the matches and insert the bioguide_ids manually for more accuracy.\n"
      ]
    },
    {
      "cell_type": "code",
      "execution_count": null,
      "id": "267e0991",
      "metadata": {
        "id": "267e0991"
      },
      "outputs": [],
      "source": [
        "\n",
        "name_df = plural_legislators # We will see if we can find the bioguide_id from the name column in the plural_legislators file\n",
        "\n",
        "# Column in your DataFrame to match against\n",
        "name_column = \"name\"\n",
        "\n",
        "# Dictionary to store best matches\n",
        "best_matches = {}\n",
        "\n",
        "for name in unmatched_names:\n",
        "    match, score, _ = process.extractOne(\n",
        "        name,\n",
        "        name_df[name_column],\n",
        "        scorer=fuzz.token_sort_ratio  # You can experiment with others like fuzz.ratio\n",
        "    )\n",
        "    best_matches[name] = (match, score)\n",
        "\n",
        "# Convert to DataFrame for easier viewing\n",
        "import pandas as pd\n",
        "match_df = pd.DataFrame([\n",
        "    {\"unmatched_name\": k, \"matched_name\": v[0], \"score\": v[1]}\n",
        "    for k, v in best_matches.items()\n",
        "])\n",
        "\n",
        "# Optional: Filter for high confidence matches\n",
        "high_confidence_matches = match_df[match_df[\"score\"] > 67] # Set the threshold to 67 to get the best matches\n"
      ]
    },
    {
      "cell_type": "code",
      "execution_count": null,
      "id": "254a7d2e",
      "metadata": {
        "colab": {
          "base_uri": "https://localhost:8080/"
        },
        "id": "254a7d2e",
        "outputId": "6088f8af-3bc0-4246-ff86-e03c2a4d7ede"
      },
      "outputs": [
        {
          "name": "stdout",
          "output_type": "stream",
          "text": [
            "           unmatched_name          matched_name      score bioguide_id\n",
            "0   Christopher S. Murphy          Chris Murphy  72.727273     M001169\n",
            "1       John K. Fetterman        John Fetterman  90.322581     F000479\n",
            "2           Ben R. LujÃ¡n         Ben Ray Luján  76.923077     L000570\n",
            "3          Randy K. Weber           Randy Weber  88.000000     W000814\n",
            "4         Mark B. Messmer          Mark Messmer  88.888889     M001233\n",
            "5      William R. Timmons       William Timmons  90.909091     T000480\n",
            "6         John J. McGuire          John McGuire  88.888889     M001239\n",
            "7     Addison P. McDowell      Addison McDowell  91.428571     M001240\n",
            "8         Donald S. Beyer             Don Beyer  75.000000     B001292\n",
            "9      Marlin A. Stutzman       Marlin Stutzman  90.909091     S001188\n",
            "10    Jennifer A. Kiggans           Jen Kiggans  73.333333     K000399\n",
            "11     Nicholas J. Begich           Nick Begich  68.965517     B001323\n",
            "12       Craig A. Goldman         Craig Goldman  89.655172     G000601\n",
            "13         Riley M. Moore           Riley Moore  88.000000     M001235\n",
            "14         Thomas H. Kean              Tom Kean  72.727273     K000398\n",
            "15   Eugene Simon Vindman        Eugene Vindman  82.352941     V000138\n",
            "16   Gilbert Ray Cisneros          Gil Cisneros  75.000000     C001123\n",
            "17    Robert P. Bresnahan         Rob Bresnahan  81.250000     B001327\n",
            "18     Herbert C. Conaway          Herb Conaway  80.000000     C001136\n",
            "19       Janelle S. Bynum         Janelle Bynum  89.655172     B001326\n",
            "20        John W. Mannion          John Mannion  88.888889     M001231\n",
            "21     Abraham J. Hamadeh           Abe Hamadeh  68.965517     H001098\n",
            "22        Sam T. Liccardo          Sam Liccardo  88.888889     L000607\n",
            "23        David J. Taylor           Dave Taylor  76.923077     T000490\n",
            "24           Luz M. Rivas             Luz Rivas  85.714286     R000620\n",
            "25  Pablo Jose HernÃ¡ndez  Pablo José Hernández  87.804878     H001103\n",
            "26   Kimberlyn King-Hinds        Kim King-Hinds  82.352941     K000404\n",
            "27          Jacklyn Rosen           Jacky Rosen  91.666667     R000608\n",
            "28           Ben R. Lujan         Ben Ray Luján  80.000000     L000570\n",
            "29        David McCormick        Dave McCormick  89.655172     M001243\n",
            "30            J. D. Vance              JD Vance  73.684211     V000137\n"
          ]
        }
      ],
      "source": [
        "# Merge to get bioguide_ids from name_df\n",
        "high_confidence_with_bioguide = high_confidence_matches.merge(\n",
        "    name_df[[name_column, \"bioguide_id\"]],\n",
        "    left_on=\"matched_name\",\n",
        "    right_on=name_column,\n",
        "    how=\"left\"\n",
        ")\n",
        "\n",
        "# Optional: drop the duplicate name column\n",
        "high_confidence_with_bioguide = high_confidence_with_bioguide.drop(columns=[name_column])\n",
        "\n",
        "# View the result\n",
        "print(high_confidence_with_bioguide)"
      ]
    },
    {
      "cell_type": "markdown",
      "id": "f43fa366",
      "metadata": {},
      "source": [
        "```{warning}\n",
        "It is very important that you check the resuls above manually and make sure everyone on this list is matched correctly!\n",
        "```"
      ]
    },
    {
      "cell_type": "code",
      "execution_count": null,
      "id": "91e9ca88",
      "metadata": {
        "colab": {
          "base_uri": "https://localhost:8080/"
        },
        "id": "91e9ca88",
        "outputId": "b89b01c2-8968-47e7-8e07-37e478e3ea23"
      },
      "outputs": [
        {
          "data": {
            "text/plain": [
              "{'Christopher S. Murphy': 'M001169',\n",
              " 'John K. Fetterman': 'F000479',\n",
              " 'Ben R. LujÃ¡n': 'L000570',\n",
              " 'Randy K. Weber': 'W000814',\n",
              " 'Mark B. Messmer': 'M001233',\n",
              " 'William R. Timmons': 'T000480',\n",
              " 'John J. McGuire': 'M001239',\n",
              " 'Addison P. McDowell': 'M001240',\n",
              " 'Donald S. Beyer': 'B001292',\n",
              " 'Marlin A. Stutzman': 'S001188',\n",
              " 'Jennifer A. Kiggans': 'K000399',\n",
              " 'Nicholas J. Begich': 'B001323',\n",
              " 'Craig A. Goldman': 'G000601',\n",
              " 'Riley M. Moore': 'M001235',\n",
              " 'Thomas H. Kean': 'K000398',\n",
              " 'Eugene Simon Vindman': 'V000138',\n",
              " 'Gilbert Ray Cisneros': 'C001123',\n",
              " 'Robert P. Bresnahan': 'B001327',\n",
              " 'Herbert C. Conaway': 'C001136',\n",
              " 'Janelle S. Bynum': 'B001326',\n",
              " 'John W. Mannion': 'M001231',\n",
              " 'Abraham J. Hamadeh': 'H001098',\n",
              " 'Sam T. Liccardo': 'L000607',\n",
              " 'David J. Taylor': 'T000490',\n",
              " 'Luz M. Rivas': 'R000620',\n",
              " 'Pablo Jose HernÃ¡ndez': 'H001103',\n",
              " 'Kimberlyn King-Hinds': 'K000404',\n",
              " 'Jacklyn Rosen': 'R000608',\n",
              " 'Ben R. Lujan': 'L000570',\n",
              " 'David McCormick': 'M001243',\n",
              " 'J. D. Vance': 'V000137'}"
            ]
          },
          "execution_count": 17,
          "metadata": {},
          "output_type": "execute_result"
        }
      ],
      "source": [
        "manual_bioguide_map = dict(zip(\n",
        "    high_confidence_with_bioguide[\"unmatched_name\"],\n",
        "    high_confidence_with_bioguide[\"bioguide_id\"]\n",
        "))\n",
        "\n",
        "manual_bioguide_map"
      ]
    },
    {
      "cell_type": "code",
      "execution_count": null,
      "id": "299bf39f",
      "metadata": {
        "id": "299bf39f"
      },
      "outputs": [],
      "source": [
        "# Fill missing bioguide_id in sponsorships_with_bioguide\n",
        "sponsorships_with_bioguide[\"bioguide_id\"] = sponsorships_with_bioguide.apply(\n",
        "    lambda row: manual_bioguide_map.get(row[\"name\"], row[\"bioguide_id\"]),\n",
        "    axis=1\n",
        ")"
      ]
    },
    {
      "cell_type": "code",
      "execution_count": null,
      "id": "48d374ee",
      "metadata": {
        "colab": {
          "base_uri": "https://localhost:8080/"
        },
        "id": "48d374ee",
        "outputId": "19f397e4-99f1-4dd0-e614-dad4c9f90790"
      },
      "outputs": [
        {
          "name": "stdout",
          "output_type": "stream",
          "text": [
            "Matched:  88932\n",
            "Not matched:  244\n"
          ]
        }
      ],
      "source": [
        "# How many records are missing a bioguide_id?\n",
        "print(\"Matched: \", sponsorships_with_bioguide[sponsorships_with_bioguide[\"bioguide_id\"].notna()].shape[0])\n",
        "print(\"Not matched: \", sponsorships_with_bioguide[sponsorships_with_bioguide[\"bioguide_id\"].isna()].shape[0])"
      ]
    },
    {
      "cell_type": "code",
      "execution_count": null,
      "id": "8cdfb022",
      "metadata": {
        "colab": {
          "base_uri": "https://localhost:8080/",
          "height": 125
        },
        "id": "8cdfb022",
        "outputId": "6434063a-0b02-457c-a862-6054a6225cb9"
      },
      "outputs": [
        {
          "data": {
            "text/html": [
              "<div>\n",
              "<style scoped>\n",
              "    .dataframe tbody tr th:only-of-type {\n",
              "        vertical-align: middle;\n",
              "    }\n",
              "\n",
              "    .dataframe tbody tr th {\n",
              "        vertical-align: top;\n",
              "    }\n",
              "\n",
              "    .dataframe thead th {\n",
              "        text-align: right;\n",
              "    }\n",
              "</style>\n",
              "<table border=\"1\" class=\"dataframe\">\n",
              "  <thead>\n",
              "    <tr style=\"text-align: right;\">\n",
              "      <th></th>\n",
              "      <th>unmatched_name</th>\n",
              "      <th>matched_name</th>\n",
              "      <th>score</th>\n",
              "    </tr>\n",
              "  </thead>\n",
              "  <tbody>\n",
              "    <tr>\n",
              "      <th>3</th>\n",
              "      <td>John F. Reed</td>\n",
              "      <td>John Rose</td>\n",
              "      <td>66.666667</td>\n",
              "    </tr>\n",
              "    <tr>\n",
              "      <th>8</th>\n",
              "      <td>Robert F. Onder</td>\n",
              "      <td>Robert Aderholt</td>\n",
              "      <td>66.666667</td>\n",
              "    </tr>\n",
              "  </tbody>\n",
              "</table>\n",
              "</div>"
            ],
            "text/plain": [
              "    unmatched_name     matched_name      score\n",
              "3     John F. Reed        John Rose  66.666667\n",
              "8  Robert F. Onder  Robert Aderholt  66.666667"
            ]
          },
          "execution_count": 20,
          "metadata": {},
          "output_type": "execute_result"
        }
      ],
      "source": [
        "# Now let's check for the legislators that were not matched, with a score lower than 67\n",
        "low_confidence_matches = match_df[match_df[\"score\"] < 67]\n",
        "low_confidence_matches"
      ]
    },
    {
      "cell_type": "markdown",
      "id": "2ed2a241",
      "metadata": {},
      "source": [
        "```{note}\n",
        "\n",
        "We will now search manually for these legislators in the plural_legislators file and insert the bioguide_ids manually. \n",
        "\n",
        "Here you can check the list of retired members from OpenStates, and check wikipedia for possible other names. \n",
        "\n",
        "```"
      ]
    },
    {
      "cell_type": "code",
      "execution_count": null,
      "id": "ff1693e0",
      "metadata": {
        "id": "ff1693e0"
      },
      "outputs": [],
      "source": [
        "manual_bioguide_ids = {\n",
        "    \"John F. Reed\": \"R000122\", # Is listed as Jack Reed but it's the same person\n",
        "    \"Robert F. Onder\": \"O000177\", # Is listed as Bob Onder but it's the same person\n",
        "    # ... fill in the rest manually\n",
        "    #\"J. D. Vance\": \"V001234\"\n",
        "}\n",
        "\n",
        "# Apply the mapping to fill missing bioguide_id\n",
        "sponsorships_with_bioguide[\"bioguide_id\"] = sponsorships_with_bioguide.apply(\n",
        "    lambda row: manual_bioguide_ids.get(row[\"name\"], row[\"bioguide_id\"]),\n",
        "    axis=1\n",
        ")"
      ]
    },
    {
      "cell_type": "code",
      "execution_count": null,
      "id": "cbbdfb3d",
      "metadata": {
        "colab": {
          "base_uri": "https://localhost:8080/"
        },
        "id": "cbbdfb3d",
        "outputId": "048766d7-aeca-498a-c801-d52454a837db"
      },
      "outputs": [
        {
          "name": "stdout",
          "output_type": "stream",
          "text": [
            "Matched:  89176\n",
            "Not matched:  0\n"
          ]
        }
      ],
      "source": [
        "# How many records are missing a bioguide_id?\n",
        "print(\"Matched: \", sponsorships_with_bioguide[sponsorships_with_bioguide[\"bioguide_id\"].notna()].shape[0])\n",
        "print(\"Not matched: \", sponsorships_with_bioguide[sponsorships_with_bioguide[\"bioguide_id\"].isna()].shape[0])"
      ]
    },
    {
      "cell_type": "code",
      "execution_count": null,
      "id": "4923d7b9",
      "metadata": {
        "colab": {
          "base_uri": "https://localhost:8080/",
          "height": 206
        },
        "id": "4923d7b9",
        "outputId": "4f2e82d1-6210-481a-c515-3daa660c2bfa"
      },
      "outputs": [
        {
          "data": {
            "text/html": [
              "<div>\n",
              "<style scoped>\n",
              "    .dataframe tbody tr th:only-of-type {\n",
              "        vertical-align: middle;\n",
              "    }\n",
              "\n",
              "    .dataframe tbody tr th {\n",
              "        vertical-align: top;\n",
              "    }\n",
              "\n",
              "    .dataframe thead th {\n",
              "        text-align: right;\n",
              "    }\n",
              "</style>\n",
              "<table border=\"1\" class=\"dataframe\">\n",
              "  <thead>\n",
              "    <tr style=\"text-align: right;\">\n",
              "      <th></th>\n",
              "      <th>id</th>\n",
              "      <th>name</th>\n",
              "      <th>entity_type</th>\n",
              "      <th>organization_id</th>\n",
              "      <th>person_id</th>\n",
              "      <th>bill_id</th>\n",
              "      <th>primary</th>\n",
              "      <th>classification</th>\n",
              "      <th>bioguide_id</th>\n",
              "    </tr>\n",
              "  </thead>\n",
              "  <tbody>\n",
              "    <tr>\n",
              "      <th>0</th>\n",
              "      <td>272e17aa-0d95-48af-aeb0-2b105b35596f</td>\n",
              "      <td>Cory Booker</td>\n",
              "      <td>person</td>\n",
              "      <td>NaN</td>\n",
              "      <td>ocd-person/d0bb2662-40b6-52d2-94e6-2bf9d588c954</td>\n",
              "      <td>ocd-bill/2b2697ce-cd17-4fd1-ade6-61100214e5a8</td>\n",
              "      <td>False</td>\n",
              "      <td>cosponsor</td>\n",
              "      <td>B001288</td>\n",
              "    </tr>\n",
              "    <tr>\n",
              "      <th>1</th>\n",
              "      <td>0596b61b-2452-4043-864d-41f62748526a</td>\n",
              "      <td>Brian Schatz</td>\n",
              "      <td>person</td>\n",
              "      <td>NaN</td>\n",
              "      <td>ocd-person/bd24fe60-5756-5d23-bcbf-4734f366c257</td>\n",
              "      <td>ocd-bill/53dce010-ef5e-4fff-b537-f5d78072da94</td>\n",
              "      <td>False</td>\n",
              "      <td>cosponsor</td>\n",
              "      <td>S001194</td>\n",
              "    </tr>\n",
              "    <tr>\n",
              "      <th>2</th>\n",
              "      <td>3715e1c7-54a5-441f-b004-fe41d97724be</td>\n",
              "      <td>Roger F. Wicker</td>\n",
              "      <td>person</td>\n",
              "      <td>NaN</td>\n",
              "      <td>ocd-person/8fe2b037-b8ff-5161-9bb4-196e9f1d9dca</td>\n",
              "      <td>ocd-bill/53dce010-ef5e-4fff-b537-f5d78072da94</td>\n",
              "      <td>True</td>\n",
              "      <td>primary</td>\n",
              "      <td>W000437</td>\n",
              "    </tr>\n",
              "    <tr>\n",
              "      <th>3</th>\n",
              "      <td>c943434a-5029-49c2-b38b-31b651b7c38c</td>\n",
              "      <td>Tina Smith</td>\n",
              "      <td>person</td>\n",
              "      <td>NaN</td>\n",
              "      <td>ocd-person/f82067c3-a257-54ae-b6bd-ebe5178372e7</td>\n",
              "      <td>ocd-bill/b3542be0-643b-47a0-af7d-359831b79dc7</td>\n",
              "      <td>False</td>\n",
              "      <td>cosponsor</td>\n",
              "      <td>S001203</td>\n",
              "    </tr>\n",
              "    <tr>\n",
              "      <th>4</th>\n",
              "      <td>c0c4a9c7-bf64-4ce3-93fb-63335272ef8a</td>\n",
              "      <td>Jeff Merkley</td>\n",
              "      <td>person</td>\n",
              "      <td>NaN</td>\n",
              "      <td>ocd-person/96291b83-ea59-594a-97cf-630189e0b8ed</td>\n",
              "      <td>ocd-bill/b3542be0-643b-47a0-af7d-359831b79dc7</td>\n",
              "      <td>False</td>\n",
              "      <td>cosponsor</td>\n",
              "      <td>M001176</td>\n",
              "    </tr>\n",
              "  </tbody>\n",
              "</table>\n",
              "</div>"
            ],
            "text/plain": [
              "                                     id             name entity_type  \\\n",
              "0  272e17aa-0d95-48af-aeb0-2b105b35596f      Cory Booker      person   \n",
              "1  0596b61b-2452-4043-864d-41f62748526a     Brian Schatz      person   \n",
              "2  3715e1c7-54a5-441f-b004-fe41d97724be  Roger F. Wicker      person   \n",
              "3  c943434a-5029-49c2-b38b-31b651b7c38c       Tina Smith      person   \n",
              "4  c0c4a9c7-bf64-4ce3-93fb-63335272ef8a     Jeff Merkley      person   \n",
              "\n",
              "   organization_id                                        person_id  \\\n",
              "0              NaN  ocd-person/d0bb2662-40b6-52d2-94e6-2bf9d588c954   \n",
              "1              NaN  ocd-person/bd24fe60-5756-5d23-bcbf-4734f366c257   \n",
              "2              NaN  ocd-person/8fe2b037-b8ff-5161-9bb4-196e9f1d9dca   \n",
              "3              NaN  ocd-person/f82067c3-a257-54ae-b6bd-ebe5178372e7   \n",
              "4              NaN  ocd-person/96291b83-ea59-594a-97cf-630189e0b8ed   \n",
              "\n",
              "                                         bill_id  primary classification  \\\n",
              "0  ocd-bill/2b2697ce-cd17-4fd1-ade6-61100214e5a8    False      cosponsor   \n",
              "1  ocd-bill/53dce010-ef5e-4fff-b537-f5d78072da94    False      cosponsor   \n",
              "2  ocd-bill/53dce010-ef5e-4fff-b537-f5d78072da94     True        primary   \n",
              "3  ocd-bill/b3542be0-643b-47a0-af7d-359831b79dc7    False      cosponsor   \n",
              "4  ocd-bill/b3542be0-643b-47a0-af7d-359831b79dc7    False      cosponsor   \n",
              "\n",
              "  bioguide_id  \n",
              "0     B001288  \n",
              "1     S001194  \n",
              "2     W000437  \n",
              "3     S001203  \n",
              "4     M001176  "
            ]
          },
          "execution_count": 23,
          "metadata": {},
          "output_type": "execute_result"
        }
      ],
      "source": [
        "# Final dataset is a list of sponsorships with all of the bioguide_id, name, and chamber\n",
        "sponsorships_with_bioguide.head()"
      ]
    },
    {
      "cell_type": "markdown",
      "id": "d3a8dc88",
      "metadata": {
        "id": "d3a8dc88"
      },
      "source": [
        "### **Insert Party and chamber**"
      ]
    },
    {
      "cell_type": "code",
      "execution_count": null,
      "id": "05cda31b",
      "metadata": {
        "id": "05cda31b"
      },
      "outputs": [],
      "source": [
        "# Now let's use the bioguide_ids to get the party, type, state and districtis from the plural_legislators file via the bioguide_id\n",
        "merged_sponsorships = pd.merge(\n",
        "    sponsorships_with_bioguide,\n",
        "    plural_legislators[[\"bioguide_id\", \"party\", \"type\", \"state\", \"district\"]],\n",
        "    on=\"bioguide_id\",\n",
        "    how=\"left\"\n",
        ")"
      ]
    },
    {
      "cell_type": "code",
      "execution_count": null,
      "id": "ac232fc4",
      "metadata": {
        "colab": {
          "base_uri": "https://localhost:8080/",
          "height": 597
        },
        "id": "ac232fc4",
        "outputId": "97845135-4a2b-4a5d-cb7a-5aa01799d2c7"
      },
      "outputs": [
        {
          "data": {
            "text/html": [
              "<div>\n",
              "<style scoped>\n",
              "    .dataframe tbody tr th:only-of-type {\n",
              "        vertical-align: middle;\n",
              "    }\n",
              "\n",
              "    .dataframe tbody tr th {\n",
              "        vertical-align: top;\n",
              "    }\n",
              "\n",
              "    .dataframe thead th {\n",
              "        text-align: right;\n",
              "    }\n",
              "</style>\n",
              "<table border=\"1\" class=\"dataframe\">\n",
              "  <thead>\n",
              "    <tr style=\"text-align: right;\">\n",
              "      <th></th>\n",
              "      <th>id</th>\n",
              "      <th>name</th>\n",
              "      <th>entity_type</th>\n",
              "      <th>organization_id</th>\n",
              "      <th>person_id</th>\n",
              "      <th>bill_id</th>\n",
              "      <th>primary</th>\n",
              "      <th>classification</th>\n",
              "      <th>bioguide_id</th>\n",
              "      <th>party</th>\n",
              "      <th>type</th>\n",
              "      <th>state</th>\n",
              "      <th>district</th>\n",
              "    </tr>\n",
              "  </thead>\n",
              "  <tbody>\n",
              "    <tr>\n",
              "      <th>0</th>\n",
              "      <td>272e17aa-0d95-48af-aeb0-2b105b35596f</td>\n",
              "      <td>Cory Booker</td>\n",
              "      <td>person</td>\n",
              "      <td>NaN</td>\n",
              "      <td>ocd-person/d0bb2662-40b6-52d2-94e6-2bf9d588c954</td>\n",
              "      <td>ocd-bill/2b2697ce-cd17-4fd1-ade6-61100214e5a8</td>\n",
              "      <td>False</td>\n",
              "      <td>cosponsor</td>\n",
              "      <td>B001288</td>\n",
              "      <td>Democratic</td>\n",
              "      <td>sen</td>\n",
              "      <td>NJ</td>\n",
              "      <td>NaN</td>\n",
              "    </tr>\n",
              "    <tr>\n",
              "      <th>1</th>\n",
              "      <td>0596b61b-2452-4043-864d-41f62748526a</td>\n",
              "      <td>Brian Schatz</td>\n",
              "      <td>person</td>\n",
              "      <td>NaN</td>\n",
              "      <td>ocd-person/bd24fe60-5756-5d23-bcbf-4734f366c257</td>\n",
              "      <td>ocd-bill/53dce010-ef5e-4fff-b537-f5d78072da94</td>\n",
              "      <td>False</td>\n",
              "      <td>cosponsor</td>\n",
              "      <td>S001194</td>\n",
              "      <td>Democratic</td>\n",
              "      <td>sen</td>\n",
              "      <td>HI</td>\n",
              "      <td>NaN</td>\n",
              "    </tr>\n",
              "    <tr>\n",
              "      <th>2</th>\n",
              "      <td>3715e1c7-54a5-441f-b004-fe41d97724be</td>\n",
              "      <td>Roger F. Wicker</td>\n",
              "      <td>person</td>\n",
              "      <td>NaN</td>\n",
              "      <td>ocd-person/8fe2b037-b8ff-5161-9bb4-196e9f1d9dca</td>\n",
              "      <td>ocd-bill/53dce010-ef5e-4fff-b537-f5d78072da94</td>\n",
              "      <td>True</td>\n",
              "      <td>primary</td>\n",
              "      <td>W000437</td>\n",
              "      <td>Republican</td>\n",
              "      <td>rep</td>\n",
              "      <td>MS</td>\n",
              "      <td>1</td>\n",
              "    </tr>\n",
              "    <tr>\n",
              "      <th>3</th>\n",
              "      <td>c943434a-5029-49c2-b38b-31b651b7c38c</td>\n",
              "      <td>Tina Smith</td>\n",
              "      <td>person</td>\n",
              "      <td>NaN</td>\n",
              "      <td>ocd-person/f82067c3-a257-54ae-b6bd-ebe5178372e7</td>\n",
              "      <td>ocd-bill/b3542be0-643b-47a0-af7d-359831b79dc7</td>\n",
              "      <td>False</td>\n",
              "      <td>cosponsor</td>\n",
              "      <td>S001203</td>\n",
              "      <td>Democratic</td>\n",
              "      <td>sen</td>\n",
              "      <td>MN</td>\n",
              "      <td>NaN</td>\n",
              "    </tr>\n",
              "    <tr>\n",
              "      <th>4</th>\n",
              "      <td>c0c4a9c7-bf64-4ce3-93fb-63335272ef8a</td>\n",
              "      <td>Jeff Merkley</td>\n",
              "      <td>person</td>\n",
              "      <td>NaN</td>\n",
              "      <td>ocd-person/96291b83-ea59-594a-97cf-630189e0b8ed</td>\n",
              "      <td>ocd-bill/b3542be0-643b-47a0-af7d-359831b79dc7</td>\n",
              "      <td>False</td>\n",
              "      <td>cosponsor</td>\n",
              "      <td>M001176</td>\n",
              "      <td>Democratic</td>\n",
              "      <td>sen</td>\n",
              "      <td>OR</td>\n",
              "      <td>NaN</td>\n",
              "    </tr>\n",
              "    <tr>\n",
              "      <th>...</th>\n",
              "      <td>...</td>\n",
              "      <td>...</td>\n",
              "      <td>...</td>\n",
              "      <td>...</td>\n",
              "      <td>...</td>\n",
              "      <td>...</td>\n",
              "      <td>...</td>\n",
              "      <td>...</td>\n",
              "      <td>...</td>\n",
              "      <td>...</td>\n",
              "      <td>...</td>\n",
              "      <td>...</td>\n",
              "      <td>...</td>\n",
              "    </tr>\n",
              "    <tr>\n",
              "      <th>89171</th>\n",
              "      <td>38397786-595a-4685-9516-6c53777073cb</td>\n",
              "      <td>Ted Budd</td>\n",
              "      <td>person</td>\n",
              "      <td>NaN</td>\n",
              "      <td>ocd-person/67c3f0bb-7182-51b8-98d0-253144992bfe</td>\n",
              "      <td>ocd-bill/57efa6a1-400d-4ec3-8cf8-5109b4708bd0</td>\n",
              "      <td>False</td>\n",
              "      <td>cosponsor</td>\n",
              "      <td>B001305</td>\n",
              "      <td>Republican</td>\n",
              "      <td>rep</td>\n",
              "      <td>NC</td>\n",
              "      <td>13</td>\n",
              "    </tr>\n",
              "    <tr>\n",
              "      <th>89172</th>\n",
              "      <td>4dc9b53c-a378-4c53-a223-ca8a5e126161</td>\n",
              "      <td>James C. Justice</td>\n",
              "      <td>person</td>\n",
              "      <td>NaN</td>\n",
              "      <td>ocd-person/2f9a1274-1a6a-4a78-b253-01ec02f20eee</td>\n",
              "      <td>ocd-bill/57efa6a1-400d-4ec3-8cf8-5109b4708bd0</td>\n",
              "      <td>False</td>\n",
              "      <td>cosponsor</td>\n",
              "      <td>J000312</td>\n",
              "      <td>Republican</td>\n",
              "      <td>sen</td>\n",
              "      <td>WV</td>\n",
              "      <td>NaN</td>\n",
              "    </tr>\n",
              "    <tr>\n",
              "      <th>89173</th>\n",
              "      <td>085171c5-5a35-4759-851e-cad314664552</td>\n",
              "      <td>Pete Ricketts</td>\n",
              "      <td>person</td>\n",
              "      <td>NaN</td>\n",
              "      <td>ocd-person/e1b9405a-e695-5bc5-b3b0-6cdc1415f53c</td>\n",
              "      <td>ocd-bill/57efa6a1-400d-4ec3-8cf8-5109b4708bd0</td>\n",
              "      <td>False</td>\n",
              "      <td>cosponsor</td>\n",
              "      <td>R000618</td>\n",
              "      <td>Republican</td>\n",
              "      <td>sen</td>\n",
              "      <td>NE</td>\n",
              "      <td>NaN</td>\n",
              "    </tr>\n",
              "    <tr>\n",
              "      <th>89174</th>\n",
              "      <td>a4b34c09-6375-4197-af04-09d53c682006</td>\n",
              "      <td>Ted Cruz</td>\n",
              "      <td>person</td>\n",
              "      <td>NaN</td>\n",
              "      <td>ocd-person/c4d35f64-f25b-5888-9fcb-f3cb97df500e</td>\n",
              "      <td>ocd-bill/57efa6a1-400d-4ec3-8cf8-5109b4708bd0</td>\n",
              "      <td>True</td>\n",
              "      <td>primary</td>\n",
              "      <td>C001098</td>\n",
              "      <td>Republican</td>\n",
              "      <td>sen</td>\n",
              "      <td>TX</td>\n",
              "      <td>NaN</td>\n",
              "    </tr>\n",
              "    <tr>\n",
              "      <th>89175</th>\n",
              "      <td>e40b1beb-0049-4128-9d6e-23334f3879bf</td>\n",
              "      <td>Mike Lee</td>\n",
              "      <td>person</td>\n",
              "      <td>NaN</td>\n",
              "      <td>ocd-person/461257ff-088f-5edd-b342-4652ce1c111f</td>\n",
              "      <td>ocd-bill/6d5519d3-e11e-4e67-9265-ae194575c0ff</td>\n",
              "      <td>True</td>\n",
              "      <td>primary</td>\n",
              "      <td>L000577</td>\n",
              "      <td>Republican</td>\n",
              "      <td>sen</td>\n",
              "      <td>UT</td>\n",
              "      <td>NaN</td>\n",
              "    </tr>\n",
              "  </tbody>\n",
              "</table>\n",
              "<p>89176 rows × 13 columns</p>\n",
              "</div>"
            ],
            "text/plain": [
              "                                         id              name entity_type  \\\n",
              "0      272e17aa-0d95-48af-aeb0-2b105b35596f       Cory Booker      person   \n",
              "1      0596b61b-2452-4043-864d-41f62748526a      Brian Schatz      person   \n",
              "2      3715e1c7-54a5-441f-b004-fe41d97724be   Roger F. Wicker      person   \n",
              "3      c943434a-5029-49c2-b38b-31b651b7c38c        Tina Smith      person   \n",
              "4      c0c4a9c7-bf64-4ce3-93fb-63335272ef8a      Jeff Merkley      person   \n",
              "...                                     ...               ...         ...   \n",
              "89171  38397786-595a-4685-9516-6c53777073cb          Ted Budd      person   \n",
              "89172  4dc9b53c-a378-4c53-a223-ca8a5e126161  James C. Justice      person   \n",
              "89173  085171c5-5a35-4759-851e-cad314664552     Pete Ricketts      person   \n",
              "89174  a4b34c09-6375-4197-af04-09d53c682006          Ted Cruz      person   \n",
              "89175  e40b1beb-0049-4128-9d6e-23334f3879bf          Mike Lee      person   \n",
              "\n",
              "       organization_id                                        person_id  \\\n",
              "0                  NaN  ocd-person/d0bb2662-40b6-52d2-94e6-2bf9d588c954   \n",
              "1                  NaN  ocd-person/bd24fe60-5756-5d23-bcbf-4734f366c257   \n",
              "2                  NaN  ocd-person/8fe2b037-b8ff-5161-9bb4-196e9f1d9dca   \n",
              "3                  NaN  ocd-person/f82067c3-a257-54ae-b6bd-ebe5178372e7   \n",
              "4                  NaN  ocd-person/96291b83-ea59-594a-97cf-630189e0b8ed   \n",
              "...                ...                                              ...   \n",
              "89171              NaN  ocd-person/67c3f0bb-7182-51b8-98d0-253144992bfe   \n",
              "89172              NaN  ocd-person/2f9a1274-1a6a-4a78-b253-01ec02f20eee   \n",
              "89173              NaN  ocd-person/e1b9405a-e695-5bc5-b3b0-6cdc1415f53c   \n",
              "89174              NaN  ocd-person/c4d35f64-f25b-5888-9fcb-f3cb97df500e   \n",
              "89175              NaN  ocd-person/461257ff-088f-5edd-b342-4652ce1c111f   \n",
              "\n",
              "                                             bill_id  primary classification  \\\n",
              "0      ocd-bill/2b2697ce-cd17-4fd1-ade6-61100214e5a8    False      cosponsor   \n",
              "1      ocd-bill/53dce010-ef5e-4fff-b537-f5d78072da94    False      cosponsor   \n",
              "2      ocd-bill/53dce010-ef5e-4fff-b537-f5d78072da94     True        primary   \n",
              "3      ocd-bill/b3542be0-643b-47a0-af7d-359831b79dc7    False      cosponsor   \n",
              "4      ocd-bill/b3542be0-643b-47a0-af7d-359831b79dc7    False      cosponsor   \n",
              "...                                              ...      ...            ...   \n",
              "89171  ocd-bill/57efa6a1-400d-4ec3-8cf8-5109b4708bd0    False      cosponsor   \n",
              "89172  ocd-bill/57efa6a1-400d-4ec3-8cf8-5109b4708bd0    False      cosponsor   \n",
              "89173  ocd-bill/57efa6a1-400d-4ec3-8cf8-5109b4708bd0    False      cosponsor   \n",
              "89174  ocd-bill/57efa6a1-400d-4ec3-8cf8-5109b4708bd0     True        primary   \n",
              "89175  ocd-bill/6d5519d3-e11e-4e67-9265-ae194575c0ff     True        primary   \n",
              "\n",
              "      bioguide_id       party type state district  \n",
              "0         B001288  Democratic  sen    NJ      NaN  \n",
              "1         S001194  Democratic  sen    HI      NaN  \n",
              "2         W000437  Republican  rep    MS        1  \n",
              "3         S001203  Democratic  sen    MN      NaN  \n",
              "4         M001176  Democratic  sen    OR      NaN  \n",
              "...           ...         ...  ...   ...      ...  \n",
              "89171     B001305  Republican  rep    NC       13  \n",
              "89172     J000312  Republican  sen    WV      NaN  \n",
              "89173     R000618  Republican  sen    NE      NaN  \n",
              "89174     C001098  Republican  sen    TX      NaN  \n",
              "89175     L000577  Republican  sen    UT      NaN  \n",
              "\n",
              "[89176 rows x 13 columns]"
            ]
          },
          "execution_count": 25,
          "metadata": {},
          "output_type": "execute_result"
        }
      ],
      "source": [
        "merged_sponsorships"
      ]
    },
    {
      "cell_type": "code",
      "execution_count": null,
      "id": "79eca5cb",
      "metadata": {
        "colab": {
          "base_uri": "https://localhost:8080/"
        },
        "id": "79eca5cb",
        "outputId": "c7412301-0201-4bdc-8182-2bca89c0def9"
      },
      "outputs": [
        {
          "name": "stdout",
          "output_type": "stream",
          "text": [
            "0\n",
            "0\n",
            "0\n",
            "0\n",
            "0\n"
          ]
        }
      ],
      "source": [
        "# Check for missing values on the bioguide_id, type, party, state, and district (if type == \"rep\")\n",
        "print(merged_sponsorships[\"bioguide_id\"].isna().sum())\n",
        "print(merged_sponsorships[\"type\"].isna().sum())\n",
        "print(merged_sponsorships[\"party\"].isna().sum())\n",
        "print(merged_sponsorships[\"state\"].isna().sum())\n",
        "print(merged_sponsorships[\"district\"][merged_sponsorships[\"type\"] == \"rep\"].isna().sum())"
      ]
    },
    {
      "cell_type": "markdown",
      "id": "3c00cf6e",
      "metadata": {
        "id": "3c00cf6e"
      },
      "source": [
        "```{admonition} About merged_sponsorships\n",
        ":class: tip\n",
        "\n",
        "The `merged_sponsorships` DataFrame consolidates all sponsorship records from the original dataset (`US_119_bill_sponsorships.csv`) and augments them with legislator information when a match is found.\n",
        "\n",
        "This dataset includes:\n",
        "- The original sponsor and bill information (`name`, `bill_id`, `classification`, etc.).\n",
        "- Legislator attributes (`bioguide_id`, `party`, `type`, `state`, `district`) for matched sponsors.\n",
        "- All legislators in the sponsorship data should now have a bioguide_id.\n",
        "\n",
        "This ensures that **no data is lost**. It serves as the foundational dataset for constructing Source A (*Authors of Bills with Cross Party Sponsors*) and Source B (*Ranked People who Cosponsor Bills*) in the Bridge Grades methodology.\n",
        "```"
      ]
    },
    {
      "cell_type": "markdown",
      "id": "a5c20088",
      "metadata": {
        "id": "a5c20088"
      },
      "source": [
        "### **Check independents**"
      ]
    },
    {
      "cell_type": "code",
      "execution_count": null,
      "id": "9615c0ee",
      "metadata": {
        "colab": {
          "base_uri": "https://localhost:8080/"
        },
        "id": "9615c0ee",
        "outputId": "a3b0cc92-e95e-4a7c-8041-fca64a903d86"
      },
      "outputs": [
        {
          "data": {
            "text/plain": [
              "Index(['id', 'name', 'entity_type', 'organization_id', 'person_id', 'bill_id',\n",
              "       'primary', 'classification', 'bioguide_id', 'party', 'type', 'state',\n",
              "       'district'],\n",
              "      dtype='object')"
            ]
          },
          "execution_count": 27,
          "metadata": {},
          "output_type": "execute_result"
        }
      ],
      "source": [
        "merged_sponsorships.columns"
      ]
    },
    {
      "cell_type": "code",
      "execution_count": null,
      "id": "98307fe0",
      "metadata": {
        "colab": {
          "base_uri": "https://localhost:8080/"
        },
        "id": "98307fe0",
        "outputId": "7e4d60d8-f40a-4911-c088-496f251ef654"
      },
      "outputs": [
        {
          "data": {
            "text/plain": [
              "array(['Bernard Sanders', 'Bernie Sanders', 'Angus S. King'], dtype=object)"
            ]
          },
          "execution_count": 28,
          "metadata": {},
          "output_type": "execute_result"
        }
      ],
      "source": [
        "merged_sponsorships[merged_sponsorships['party']== 'Independent']['name'].unique()"
      ]
    },
    {
      "cell_type": "markdown",
      "id": "6f3fbbad",
      "metadata": {},
      "source": [
        "```{warning}\n",
        "Check that legislators above aligned with the democratic party before running the code below. These legislators are factually democratic and should not be given rewards for sponsoring with the democratic party. Independents might change in the future, so please revise this part of the code\n",
        "```"
      ]
    },
    {
      "cell_type": "code",
      "execution_count": null,
      "id": "0bf2af02",
      "metadata": {
        "id": "0bf2af02"
      },
      "outputs": [],
      "source": [
        "merged_sponsorships['party'] = merged_sponsorships['party'].replace('Independent', 'Democratic')"
      ]
    },
    {
      "cell_type": "markdown",
      "id": "f5fad253",
      "metadata": {
        "id": "f5fad253"
      },
      "source": [
        "## **Construct Cross-Party Sponsorship Ranking (Source A)**\n",
        "\n",
        "This section calculates how many bills each primary sponsor introduced that received support from at least one cosponsor of a different political party.\n",
        "\n",
        "To ensure accurate and complete results:\n",
        "- We filter out records without a declared party (required for identifying bipartisan collaboration).\n",
        "- We validate the structure of sponsorship data, including missing values and unmatched relationships.\n",
        "- We retain identifiers (`bioguide_id`) for both sponsors and cosponsors, to preserve analytical flexibility.\n",
        "\n",
        "The final output ranks each legislator who served as a primary sponsor based on the number of bills they sponsored that attracted cross-party support."
      ]
    },
    {
      "cell_type": "code",
      "execution_count": null,
      "id": "990c948e",
      "metadata": {
        "colab": {
          "base_uri": "https://localhost:8080/"
        },
        "id": "990c948e",
        "outputId": "bd544c83-5ff2-44a3-d8a0-d37b61234659"
      },
      "outputs": [
        {
          "name": "stdout",
          "output_type": "stream",
          "text": [
            "Rows without party: 0 of 89176 (0.00%)\n"
          ]
        }
      ],
      "source": [
        "# Filter out rows with missing party information and report exclusion stats\n",
        "total_records = len(merged_sponsorships)\n",
        "missing_party = merged_sponsorships['party'].isna().sum()\n",
        "pct_missing_party = (missing_party / total_records) * 100 if total_records > 0 else 0\n",
        "\n",
        "print(f\"Rows without party: {missing_party} of {total_records} ({pct_missing_party:.2f}%)\")\n",
        "\n",
        "# Drop rows without party affiliation (cannot evaluate bipartisanship)\n",
        "df = merged_sponsorships.dropna(subset=['party'])"
      ]
    },
    {
      "cell_type": "code",
      "execution_count": null,
      "id": "a76e8041",
      "metadata": {
        "colab": {
          "base_uri": "https://localhost:8080/"
        },
        "id": "a76e8041",
        "outputId": "b83facf0-6597-4b81-dab9-3908489c9f8b"
      },
      "outputs": [
        {
          "data": {
            "text/plain": [
              "89176"
            ]
          },
          "execution_count": 31,
          "metadata": {},
          "output_type": "execute_result"
        }
      ],
      "source": [
        "df.shape[0]"
      ]
    },
    {
      "cell_type": "markdown",
      "id": "ebcd4bfe",
      "metadata": {
        "id": "ebcd4bfe"
      },
      "source": [
        "### **Separate primary sponsors and cosponsors**\n",
        "\n",
        "We isolate the primary sponsors and cosponsors into two separate DataFrames, ensuring that both include the sponsor name, party, and bioguide ID.\n",
        "\n",
        "Primary sponsors are then renamed to distinguish them clearly when merged with cosponsor data."
      ]
    },
    {
      "cell_type": "code",
      "execution_count": null,
      "id": "9eae84ae",
      "metadata": {
        "id": "9eae84ae"
      },
      "outputs": [],
      "source": [
        "# Select primary sponsors\n",
        "primary_df = df[df['classification'] == 'primary'][['bill_id', 'name', 'party', 'bioguide_id']].copy()\n",
        "\n",
        "# Select cosponsors (with bioguide_id retained)\n",
        "cosponsor_df = df[df['classification'] == 'cosponsor'][['bill_id', 'name', 'party', 'bioguide_id']].copy()\n",
        "\n",
        "# Rename primary sponsor columns to avoid conflict after merge\n",
        "primary_df = primary_df.rename(columns={\n",
        "    'name': 'primary_name',\n",
        "    'party': 'primary_party',\n",
        "    'bioguide_id': 'primary_bioguide_id'\n",
        "})"
      ]
    },
    {
      "cell_type": "markdown",
      "id": "afa08f00",
      "metadata": {
        "id": "afa08f00"
      },
      "source": [
        "### **Merge cosponsors with their primary sponsor and flag cross-party cases**\n",
        "\n",
        "Each cosponsor is merged with their bill’s primary sponsor. We validate how many cosponsors are unmatched (bills without a primary sponsor), and we flag cases where the cosponsor and sponsor are from different parties.\n"
      ]
    },
    {
      "cell_type": "code",
      "execution_count": null,
      "id": "2a86833d",
      "metadata": {
        "colab": {
          "base_uri": "https://localhost:8080/"
        },
        "id": "2a86833d",
        "outputId": "0c4f6fcd-ec70-4a61-b9b6-25dbdeb2f0cb"
      },
      "outputs": [
        {
          "name": "stdout",
          "output_type": "stream",
          "text": [
            "Cosponsors without linked primary sponsor: 0 of 80345 (0.00%)\n"
          ]
        }
      ],
      "source": [
        "# Merge cosponsors with primary sponsors on bill_id\n",
        "merged_df = cosponsor_df.merge(primary_df, on='bill_id', how='left')\n",
        "\n",
        "# Report how many cosponsors are linked to bills without a recorded primary sponsor\n",
        "no_primary = merged_df['primary_name'].isna().sum()\n",
        "total_cosponsors = len(cosponsor_df)\n",
        "pct_no_primary = (no_primary / total_cosponsors) * 100 if total_cosponsors > 0 else 0\n",
        "\n",
        "print(f\"Cosponsors without linked primary sponsor: {no_primary} of {total_cosponsors} ({pct_no_primary:.2f}%)\")\n",
        "\n",
        "# Flag whether the cosponsor is from a different party (ignoring rows with missing primary_party)\n",
        "merged_df['different_party'] = (\n",
        "    merged_df['primary_party'].notna() &\n",
        "    (merged_df['party'] != merged_df['primary_party'])\n",
        ")"
      ]
    },
    {
      "cell_type": "markdown",
      "id": "5b2b3ae6",
      "metadata": {
        "id": "5b2b3ae6"
      },
      "source": [
        "### **Count and rank bills with cross-party cosponsors**\n",
        "\n",
        "We count the number of bills each primary sponsor introduced that had at least one cross-party cosponsor. Primary sponsors with zero such bills are retained in the ranking with a count of zero."
      ]
    },
    {
      "cell_type": "code",
      "execution_count": null,
      "id": "687d8e62",
      "metadata": {
        "colab": {
          "base_uri": "https://localhost:8080/",
          "height": 363
        },
        "id": "687d8e62",
        "outputId": "4e197ef4-8a97-4e44-b13d-bb20e0065cf8"
      },
      "outputs": [
        {
          "data": {
            "text/html": [
              "<div>\n",
              "<style scoped>\n",
              "    .dataframe tbody tr th:only-of-type {\n",
              "        vertical-align: middle;\n",
              "    }\n",
              "\n",
              "    .dataframe tbody tr th {\n",
              "        vertical-align: top;\n",
              "    }\n",
              "\n",
              "    .dataframe thead th {\n",
              "        text-align: right;\n",
              "    }\n",
              "</style>\n",
              "<table border=\"1\" class=\"dataframe\">\n",
              "  <thead>\n",
              "    <tr style=\"text-align: right;\">\n",
              "      <th></th>\n",
              "      <th>primary_name</th>\n",
              "      <th>primary_bioguide_id</th>\n",
              "      <th>num_bills_with_cross_party_cosponsors</th>\n",
              "      <th>rank</th>\n",
              "    </tr>\n",
              "  </thead>\n",
              "  <tbody>\n",
              "    <tr>\n",
              "      <th>0</th>\n",
              "      <td>Amy Klobuchar</td>\n",
              "      <td>K000367</td>\n",
              "      <td>51</td>\n",
              "      <td>1</td>\n",
              "    </tr>\n",
              "    <tr>\n",
              "      <th>1</th>\n",
              "      <td>Bill Cassidy</td>\n",
              "      <td>C001075</td>\n",
              "      <td>49</td>\n",
              "      <td>2</td>\n",
              "    </tr>\n",
              "    <tr>\n",
              "      <th>2</th>\n",
              "      <td>John Cornyn</td>\n",
              "      <td>C001056</td>\n",
              "      <td>48</td>\n",
              "      <td>3</td>\n",
              "    </tr>\n",
              "    <tr>\n",
              "      <th>3</th>\n",
              "      <td>Chuck Grassley</td>\n",
              "      <td>G000386</td>\n",
              "      <td>43</td>\n",
              "      <td>4</td>\n",
              "    </tr>\n",
              "    <tr>\n",
              "      <th>4</th>\n",
              "      <td>Brian K. Fitzpatrick</td>\n",
              "      <td>F000466</td>\n",
              "      <td>42</td>\n",
              "      <td>5</td>\n",
              "    </tr>\n",
              "    <tr>\n",
              "      <th>5</th>\n",
              "      <td>Marsha Blackburn</td>\n",
              "      <td>B001243</td>\n",
              "      <td>41</td>\n",
              "      <td>6</td>\n",
              "    </tr>\n",
              "    <tr>\n",
              "      <th>6</th>\n",
              "      <td>Gary Peters</td>\n",
              "      <td>P000595</td>\n",
              "      <td>38</td>\n",
              "      <td>7</td>\n",
              "    </tr>\n",
              "    <tr>\n",
              "      <th>7</th>\n",
              "      <td>Catherine Cortez Masto</td>\n",
              "      <td>C001113</td>\n",
              "      <td>34</td>\n",
              "      <td>8</td>\n",
              "    </tr>\n",
              "    <tr>\n",
              "      <th>8</th>\n",
              "      <td>Jeanne Shaheen</td>\n",
              "      <td>S001181</td>\n",
              "      <td>31</td>\n",
              "      <td>9</td>\n",
              "    </tr>\n",
              "    <tr>\n",
              "      <th>9</th>\n",
              "      <td>Zachary Nunn</td>\n",
              "      <td>N000193</td>\n",
              "      <td>29</td>\n",
              "      <td>10</td>\n",
              "    </tr>\n",
              "  </tbody>\n",
              "</table>\n",
              "</div>"
            ],
            "text/plain": [
              "             primary_name primary_bioguide_id  \\\n",
              "0           Amy Klobuchar             K000367   \n",
              "1            Bill Cassidy             C001075   \n",
              "2             John Cornyn             C001056   \n",
              "3          Chuck Grassley             G000386   \n",
              "4    Brian K. Fitzpatrick             F000466   \n",
              "5        Marsha Blackburn             B001243   \n",
              "6             Gary Peters             P000595   \n",
              "7  Catherine Cortez Masto             C001113   \n",
              "8          Jeanne Shaheen             S001181   \n",
              "9            Zachary Nunn             N000193   \n",
              "\n",
              "   num_bills_with_cross_party_cosponsors  rank  \n",
              "0                                     51     1  \n",
              "1                                     49     2  \n",
              "2                                     48     3  \n",
              "3                                     43     4  \n",
              "4                                     42     5  \n",
              "5                                     41     6  \n",
              "6                                     38     7  \n",
              "7                                     34     8  \n",
              "8                                     31     9  \n",
              "9                                     29    10  "
            ]
          },
          "metadata": {},
          "output_type": "display_data"
        }
      ],
      "source": [
        "# Get all unique primary sponsors\n",
        "all_primary_sponsors = primary_df[['primary_name', 'primary_bioguide_id']].drop_duplicates()\n",
        "\n",
        "# Identify bills with at least one cross-party cosponsor\n",
        "bills_with_diff_party = merged_df[merged_df['different_party'] == True][\n",
        "    ['bill_id', 'primary_name', 'primary_bioguide_id']\n",
        "].drop_duplicates()\n",
        "\n",
        "# Count number of such bills per primary sponsor\n",
        "cross_party_counts = bills_with_diff_party.groupby(\n",
        "    ['primary_name', 'primary_bioguide_id']\n",
        ").size().reset_index(name='num_bills_with_cross_party_cosponsors')\n",
        "\n",
        "# Merge with all primary sponsors to include those with zero\n",
        "result = all_primary_sponsors.merge(\n",
        "    cross_party_counts,\n",
        "    on=['primary_name', 'primary_bioguide_id'],\n",
        "    how='left'\n",
        ")\n",
        "result['num_bills_with_cross_party_cosponsors'] = result['num_bills_with_cross_party_cosponsors'].fillna(0).astype(int)\n",
        "\n",
        "# Sort and rank\n",
        "ranked_result = result.sort_values(\n",
        "    by='num_bills_with_cross_party_cosponsors',\n",
        "    ascending=False\n",
        ").reset_index(drop=True)\n",
        "\n",
        "ranked_result['rank'] = ranked_result.index + 1\n",
        "\n",
        "# Preview final result\n",
        "display(ranked_result.head(10))"
      ]
    },
    {
      "cell_type": "markdown",
      "id": "7b278438",
      "metadata": {},
      "source": [
        "#### **Save ranked_result to csv files**"
      ]
    },
    {
      "cell_type": "code",
      "execution_count": null,
      "id": "2af14830",
      "metadata": {
        "id": "2af14830"
      },
      "outputs": [],
      "source": [
        "# Uncomment to save to google drive\n",
        "# ranked_result.to_csv(\"/content/drive/MyDrive/Bridge Grades Snapshot August/Data/Source A-B/Output files/bridge_grade_source_a_cross_party_supported_bills.csv\", index=False)\n",
        "\n",
        "# Save to local machine\n",
        "ranked_result.to_csv(\"../Data/Source A-B/Output files/bridge_grade_source_a_cross_party_supported_bills.csv\", index=False)"
      ]
    },
    {
      "cell_type": "markdown",
      "id": "52689af7",
      "metadata": {
        "id": "52689af7"
      },
      "source": [
        "```{admonition} About this file\n",
        ":class: tip\n",
        "\n",
        "The `bridge_grade_source_a_cross_party_supported_bills.csv` DataFrame contains a ranked list of legislators who served as primary sponsors during the 119th Congress, based on the number of bills they introduced that received support from at least one cosponsor of a different political party.\n",
        "\n",
        "Each row represents a unique primary sponsor and includes:\n",
        "- `primary_name`: The name of the primary sponsor.\n",
        "- `primary_bioguide_id`: A unique identifier for the legislator.\n",
        "- `num_bills_with_cross_party_cosponsors`: The number of sponsored bills that received cross-party cosponsorship.\n",
        "- `rank`: The sponsor's rank based on that count (higher values indicate more bipartisan engagement).\n",
        "\n",
        "This dataset constitutes **Source A** in the Bridge Grades methodology:  \n",
        "**“Authors of Bills with Cross Party Sponsors”** — a signal of bipartisan openness based on the cosponsorship behavior of others toward the legislator's initiatives.\n",
        "```"
      ]
    },
    {
      "cell_type": "markdown",
      "id": "54be8564",
      "metadata": {
        "id": "54be8564"
      },
      "source": [
        "## **Construct Cross-Party Cosponsorship Ranking (Source B)**\n",
        "\n",
        "This section generates a ranking of legislators based on the number of bills they **cosponsored** where the **primary sponsor was from a different political party**.\n",
        "\n",
        "The output represents **Source B** in the Bridge Grades methodology:\n",
        "\n",
        "> \"Ranked People who Cosponsor Bills\" — a measure of bipartisan engagement based on a legislator's willingness to support legislation authored by the opposing party.\n",
        "\n",
        "The data used here comes from the `merged_sponsorships` DataFrame produced earlier in this notebook."
      ]
    },
    {
      "cell_type": "markdown",
      "id": "562705e8",
      "metadata": {
        "id": "562705e8"
      },
      "source": [
        "### **Step 1: Remove rows without party affiliation**\n",
        "\n",
        "Cosponsorship records without party information cannot be used to assess bipartisan behavior. We remove these rows and report how many are excluded."
      ]
    },
    {
      "cell_type": "code",
      "execution_count": null,
      "id": "3d9270a0",
      "metadata": {
        "colab": {
          "base_uri": "https://localhost:8080/"
        },
        "id": "3d9270a0",
        "outputId": "19235b09-6781-4e2c-a776-e7bbc8830638"
      },
      "outputs": [
        {
          "name": "stdout",
          "output_type": "stream",
          "text": [
            "Rows without party: 0 of 89176 (0.00%)\n"
          ]
        }
      ],
      "source": [
        "# Count and drop rows with missing party\n",
        "total_rows = len(merged_sponsorships)\n",
        "missing_party_count = merged_sponsorships['party'].isna().sum()\n",
        "pct_missing = (missing_party_count / total_rows) * 100 if total_rows > 0 else 0\n",
        "\n",
        "print(f\"Rows without party: {missing_party_count} of {total_rows} ({pct_missing:.2f}%)\")\n",
        "\n",
        "df = merged_sponsorships.dropna(subset=['party'])"
      ]
    },
    {
      "cell_type": "markdown",
      "id": "c39f1fe4",
      "metadata": {
        "id": "c39f1fe4"
      },
      "source": [
        "### **Step 2: Join cosponsors with party of the primary sponsor**\n",
        "\n",
        "We isolate primary sponsors and cosponsors, then merge cosponsors with the party of the legislator who introduced the bill. We also check if any cosponsor entries cannot be linked to a primary sponsor."
      ]
    },
    {
      "cell_type": "code",
      "execution_count": null,
      "id": "e2ca16a2",
      "metadata": {
        "colab": {
          "base_uri": "https://localhost:8080/"
        },
        "id": "e2ca16a2",
        "outputId": "0354adfa-1cb3-446a-f431-aa9a49c1f1e2"
      },
      "outputs": [
        {
          "name": "stdout",
          "output_type": "stream",
          "text": [
            "Cosponsors without linked primary sponsor: 0 of 80345 (0.00%)\n"
          ]
        }
      ],
      "source": [
        "# Get party of bill authors (primary sponsors)\n",
        "primary_df = df[df['classification'] == 'primary'][['bill_id', 'party']].copy()\n",
        "primary_df = primary_df.rename(columns={'party': 'primary_party'})\n",
        "\n",
        "# Get cosponsor records with identifying information\n",
        "cosponsor_df = df[df['classification'] == 'cosponsor'][['bill_id', 'name', 'party', 'bioguide_id']].copy()\n",
        "\n",
        "# Merge cosponsors with primary sponsor party\n",
        "merged_df = cosponsor_df.merge(primary_df, on='bill_id', how='left')\n",
        "\n",
        "# Report cosponsors without primary sponsor info\n",
        "no_primary_link = merged_df['primary_party'].isna().sum()\n",
        "total_cosponsors = len(cosponsor_df)\n",
        "pct_no_primary = (no_primary_link / total_cosponsors) * 100 if total_cosponsors > 0 else 0\n",
        "\n",
        "print(f\"Cosponsors without linked primary sponsor: {no_primary_link} of {total_cosponsors} ({pct_no_primary:.2f}%)\")\n",
        "\n",
        "# Flag cross-party sponsorship only when both parties are known\n",
        "merged_df['different_party'] = (\n",
        "    merged_df['primary_party'].notna() &\n",
        "    (merged_df['party'] != merged_df['primary_party'])\n",
        ")"
      ]
    },
    {
      "cell_type": "markdown",
      "id": "f8936d1c",
      "metadata": {
        "id": "f8936d1c"
      },
      "source": [
        "### **Step 3: Count and rank cross-party cosponsorships**\n",
        "\n",
        "We identify all legislators who cosponsored at least one bill from the opposing party. Those who did not are still included in the final ranking with a count of zero.\n"
      ]
    },
    {
      "cell_type": "code",
      "execution_count": null,
      "id": "bec96905",
      "metadata": {
        "colab": {
          "base_uri": "https://localhost:8080/",
          "height": 363
        },
        "id": "bec96905",
        "outputId": "fe1f167b-d270-468e-ec7e-d0b9d2ae8bb8"
      },
      "outputs": [
        {
          "data": {
            "text/html": [
              "<div>\n",
              "<style scoped>\n",
              "    .dataframe tbody tr th:only-of-type {\n",
              "        vertical-align: middle;\n",
              "    }\n",
              "\n",
              "    .dataframe tbody tr th {\n",
              "        vertical-align: top;\n",
              "    }\n",
              "\n",
              "    .dataframe thead th {\n",
              "        text-align: right;\n",
              "    }\n",
              "</style>\n",
              "<table border=\"1\" class=\"dataframe\">\n",
              "  <thead>\n",
              "    <tr style=\"text-align: right;\">\n",
              "      <th></th>\n",
              "      <th>name</th>\n",
              "      <th>bioguide_id</th>\n",
              "      <th>num_cross_party_cosponsored_bills</th>\n",
              "      <th>rank</th>\n",
              "    </tr>\n",
              "  </thead>\n",
              "  <tbody>\n",
              "    <tr>\n",
              "      <th>0</th>\n",
              "      <td>Brian K. Fitzpatrick</td>\n",
              "      <td>F000466</td>\n",
              "      <td>433</td>\n",
              "      <td>1</td>\n",
              "    </tr>\n",
              "    <tr>\n",
              "      <th>1</th>\n",
              "      <td>Donald G. Davis</td>\n",
              "      <td>D000230</td>\n",
              "      <td>240</td>\n",
              "      <td>2</td>\n",
              "    </tr>\n",
              "    <tr>\n",
              "      <th>2</th>\n",
              "      <td>Jimmy Panetta</td>\n",
              "      <td>P000613</td>\n",
              "      <td>167</td>\n",
              "      <td>3</td>\n",
              "    </tr>\n",
              "    <tr>\n",
              "      <th>3</th>\n",
              "      <td>Eugene Simon Vindman</td>\n",
              "      <td>V000138</td>\n",
              "      <td>161</td>\n",
              "      <td>4</td>\n",
              "    </tr>\n",
              "    <tr>\n",
              "      <th>4</th>\n",
              "      <td>Josh Gottheimer</td>\n",
              "      <td>G000583</td>\n",
              "      <td>160</td>\n",
              "      <td>5</td>\n",
              "    </tr>\n",
              "    <tr>\n",
              "      <th>5</th>\n",
              "      <td>Michael Lawler</td>\n",
              "      <td>L000599</td>\n",
              "      <td>153</td>\n",
              "      <td>6</td>\n",
              "    </tr>\n",
              "    <tr>\n",
              "      <th>6</th>\n",
              "      <td>Thomas R. Suozzi</td>\n",
              "      <td>S001201</td>\n",
              "      <td>130</td>\n",
              "      <td>7</td>\n",
              "    </tr>\n",
              "    <tr>\n",
              "      <th>7</th>\n",
              "      <td>Don Bacon</td>\n",
              "      <td>B001298</td>\n",
              "      <td>126</td>\n",
              "      <td>8</td>\n",
              "    </tr>\n",
              "    <tr>\n",
              "      <th>8</th>\n",
              "      <td>Amy Klobuchar</td>\n",
              "      <td>K000367</td>\n",
              "      <td>117</td>\n",
              "      <td>9</td>\n",
              "    </tr>\n",
              "    <tr>\n",
              "      <th>9</th>\n",
              "      <td>Angie Craig</td>\n",
              "      <td>C001119</td>\n",
              "      <td>108</td>\n",
              "      <td>10</td>\n",
              "    </tr>\n",
              "  </tbody>\n",
              "</table>\n",
              "</div>"
            ],
            "text/plain": [
              "                   name bioguide_id  num_cross_party_cosponsored_bills  rank\n",
              "0  Brian K. Fitzpatrick     F000466                                433     1\n",
              "1       Donald G. Davis     D000230                                240     2\n",
              "2         Jimmy Panetta     P000613                                167     3\n",
              "3  Eugene Simon Vindman     V000138                                161     4\n",
              "4       Josh Gottheimer     G000583                                160     5\n",
              "5        Michael Lawler     L000599                                153     6\n",
              "6      Thomas R. Suozzi     S001201                                130     7\n",
              "7             Don Bacon     B001298                                126     8\n",
              "8         Amy Klobuchar     K000367                                117     9\n",
              "9           Angie Craig     C001119                                108    10"
            ]
          },
          "metadata": {},
          "output_type": "display_data"
        }
      ],
      "source": [
        "# All unique cosponsors\n",
        "all_cosponsors = cosponsor_df[['name', 'bioguide_id']].drop_duplicates()\n",
        "\n",
        "# Filter to cross-party cosponsorship cases\n",
        "cross_party_df = merged_df[merged_df['different_party'] == True][['name', 'bioguide_id', 'bill_id']].drop_duplicates()\n",
        "\n",
        "# Count number of cross-party cosponsorships per legislator\n",
        "cross_party_counts = cross_party_df.groupby(\n",
        "    ['name', 'bioguide_id']\n",
        ").size().reset_index(name='num_cross_party_cosponsored_bills')\n",
        "\n",
        "# Merge to include all cosponsors (even those with 0 cross-party cases)\n",
        "result = all_cosponsors.merge(\n",
        "    cross_party_counts,\n",
        "    on=['name', 'bioguide_id'],\n",
        "    how='left'\n",
        ")\n",
        "result['num_cross_party_cosponsored_bills'] = result['num_cross_party_cosponsored_bills'].fillna(0).astype(int)\n",
        "\n",
        "# Sort and rank\n",
        "ranked_result_b = result.sort_values(\n",
        "    by='num_cross_party_cosponsored_bills',\n",
        "    ascending=False\n",
        ").reset_index(drop=True)\n",
        "\n",
        "ranked_result_b['rank'] = ranked_result_b.index + 1\n",
        "\n",
        "# Preview top-ranked cross-party cosponsors\n",
        "display(ranked_result_b.head(10))"
      ]
    },
    {
      "cell_type": "markdown",
      "id": "8f7e6f27",
      "metadata": {},
      "source": [
        "#### **Save ranked_result_b to csv files**"
      ]
    },
    {
      "cell_type": "code",
      "execution_count": null,
      "id": "07cfb000",
      "metadata": {
        "id": "07cfb000"
      },
      "outputs": [],
      "source": [
        "# Uncomment to save to google drive\n",
        "# ranked_result_b.to_csv(\"/content/drive/MyDrive/Bridge Grades Snapshot August/Data/Source A-B/Output files/bridge_grade_source_b_cross_party_cosponsors.csv\", index=False)\n",
        "\n",
        "# Save to local machine\n",
        "ranked_result_b.to_csv(\"../Data/Source A-B/Output files/bridge_grade_source_b_cross_party_cosponsors.csv\", index=False)"
      ]
    },
    {
      "cell_type": "markdown",
      "id": "3e58649d",
      "metadata": {
        "id": "3e58649d"
      },
      "source": [
        "## **Visual Summary of Cross-Party Activity and Data Quality**\n",
        "\n",
        "This section presents three key visualizations to complement the quantitative analysis:\n",
        "\n",
        "1. **Top Cross-Party Cosponsors (Source B):** Legislators ranked by how often they cosponsored bills from the opposite party.\n",
        "2. **Top Authors of Cross-Party Supported Bills (Source A):** Legislators ranked by the number of their sponsored bills that received bipartisan support.\n",
        "3. **Missing Values Overview:** A chart highlighting columns with missing information, including the source and reasoning behind those gaps.\n",
        "\n",
        "These charts help illustrate not only patterns of bipartisan behavior, but also the integrity and limitations of the underlying data."
      ]
    },
    {
      "cell_type": "code",
      "execution_count": null,
      "id": "389d9a1a",
      "metadata": {
        "id": "389d9a1a"
      },
      "outputs": [],
      "source": [
        "ordered_purples = ['#3f007d', '#54278f', '#6a51a3', '#807dba', '#9e9ac8', '#bcbddc']"
      ]
    },
    {
      "cell_type": "code",
      "execution_count": null,
      "id": "69a4cae8",
      "metadata": {
        "colab": {
          "base_uri": "https://localhost:8080/",
          "height": 542
        },
        "id": "69a4cae8",
        "outputId": "852f4353-34c8-40d8-92e6-471c388e7377"
      },
      "outputs": [
        {
          "data": {
            "application/vnd.plotly.v1+json": {
              "config": {
                "plotlyServerURL": "https://plot.ly"
              },
              "data": [
                {
                  "hovertemplate": "num_bills_with_cross_party_cosponsors=%{marker.color}<br>primary_name=%{y}<extra></extra>",
                  "legendgroup": "",
                  "marker": {
                    "color": {
                      "bdata": "MzEwKyopJiIfHR0cGRkZ",
                      "dtype": "i1"
                    },
                    "coloraxis": "coloraxis",
                    "pattern": {
                      "shape": ""
                    }
                  },
                  "name": "",
                  "orientation": "h",
                  "showlegend": false,
                  "textposition": "auto",
                  "type": "bar",
                  "x": {
                    "bdata": "MzEwKyopJiIfHR0cGRkZ",
                    "dtype": "i1"
                  },
                  "xaxis": "x",
                  "y": [
                    "Amy Klobuchar",
                    "Bill Cassidy",
                    "John Cornyn",
                    "Chuck Grassley",
                    "Brian K. Fitzpatrick",
                    "Marsha Blackburn",
                    "Gary Peters",
                    "Catherine Cortez Masto",
                    "Jeanne Shaheen",
                    "Zachary Nunn",
                    "Thomas Roland Tillis",
                    "Jerry Moran",
                    "Jennifer A. Kiggans",
                    "Rick Scott",
                    "Nicole Malliotakis"
                  ],
                  "yaxis": "y"
                }
              ],
              "layout": {
                "barmode": "relative",
                "coloraxis": {
                  "colorbar": {
                    "title": {
                      "text": "num_bills_with_cross_party_cosponsors"
                    }
                  },
                  "colorscale": [
                    [
                      0,
                      "#bcbddc"
                    ],
                    [
                      0.2,
                      "#9e9ac8"
                    ],
                    [
                      0.4,
                      "#807dba"
                    ],
                    [
                      0.6,
                      "#6a51a3"
                    ],
                    [
                      0.8,
                      "#54278f"
                    ],
                    [
                      1,
                      "#3f007d"
                    ]
                  ],
                  "showscale": false
                },
                "legend": {
                  "tracegroupgap": 0
                },
                "margin": {
                  "b": 40,
                  "l": 100,
                  "r": 20,
                  "t": 60
                },
                "paper_bgcolor": "#ffffff",
                "plot_bgcolor": "#ffffff",
                "template": {
                  "data": {
                    "bar": [
                      {
                        "error_x": {
                          "color": "#2a3f5f"
                        },
                        "error_y": {
                          "color": "#2a3f5f"
                        },
                        "marker": {
                          "line": {
                            "color": "#E5ECF6",
                            "width": 0.5
                          },
                          "pattern": {
                            "fillmode": "overlay",
                            "size": 10,
                            "solidity": 0.2
                          }
                        },
                        "type": "bar"
                      }
                    ],
                    "barpolar": [
                      {
                        "marker": {
                          "line": {
                            "color": "#E5ECF6",
                            "width": 0.5
                          },
                          "pattern": {
                            "fillmode": "overlay",
                            "size": 10,
                            "solidity": 0.2
                          }
                        },
                        "type": "barpolar"
                      }
                    ],
                    "carpet": [
                      {
                        "aaxis": {
                          "endlinecolor": "#2a3f5f",
                          "gridcolor": "white",
                          "linecolor": "white",
                          "minorgridcolor": "white",
                          "startlinecolor": "#2a3f5f"
                        },
                        "baxis": {
                          "endlinecolor": "#2a3f5f",
                          "gridcolor": "white",
                          "linecolor": "white",
                          "minorgridcolor": "white",
                          "startlinecolor": "#2a3f5f"
                        },
                        "type": "carpet"
                      }
                    ],
                    "choropleth": [
                      {
                        "colorbar": {
                          "outlinewidth": 0,
                          "ticks": ""
                        },
                        "type": "choropleth"
                      }
                    ],
                    "contour": [
                      {
                        "colorbar": {
                          "outlinewidth": 0,
                          "ticks": ""
                        },
                        "colorscale": [
                          [
                            0,
                            "#0d0887"
                          ],
                          [
                            0.1111111111111111,
                            "#46039f"
                          ],
                          [
                            0.2222222222222222,
                            "#7201a8"
                          ],
                          [
                            0.3333333333333333,
                            "#9c179e"
                          ],
                          [
                            0.4444444444444444,
                            "#bd3786"
                          ],
                          [
                            0.5555555555555556,
                            "#d8576b"
                          ],
                          [
                            0.6666666666666666,
                            "#ed7953"
                          ],
                          [
                            0.7777777777777778,
                            "#fb9f3a"
                          ],
                          [
                            0.8888888888888888,
                            "#fdca26"
                          ],
                          [
                            1,
                            "#f0f921"
                          ]
                        ],
                        "type": "contour"
                      }
                    ],
                    "contourcarpet": [
                      {
                        "colorbar": {
                          "outlinewidth": 0,
                          "ticks": ""
                        },
                        "type": "contourcarpet"
                      }
                    ],
                    "heatmap": [
                      {
                        "colorbar": {
                          "outlinewidth": 0,
                          "ticks": ""
                        },
                        "colorscale": [
                          [
                            0,
                            "#0d0887"
                          ],
                          [
                            0.1111111111111111,
                            "#46039f"
                          ],
                          [
                            0.2222222222222222,
                            "#7201a8"
                          ],
                          [
                            0.3333333333333333,
                            "#9c179e"
                          ],
                          [
                            0.4444444444444444,
                            "#bd3786"
                          ],
                          [
                            0.5555555555555556,
                            "#d8576b"
                          ],
                          [
                            0.6666666666666666,
                            "#ed7953"
                          ],
                          [
                            0.7777777777777778,
                            "#fb9f3a"
                          ],
                          [
                            0.8888888888888888,
                            "#fdca26"
                          ],
                          [
                            1,
                            "#f0f921"
                          ]
                        ],
                        "type": "heatmap"
                      }
                    ],
                    "histogram": [
                      {
                        "marker": {
                          "pattern": {
                            "fillmode": "overlay",
                            "size": 10,
                            "solidity": 0.2
                          }
                        },
                        "type": "histogram"
                      }
                    ],
                    "histogram2d": [
                      {
                        "colorbar": {
                          "outlinewidth": 0,
                          "ticks": ""
                        },
                        "colorscale": [
                          [
                            0,
                            "#0d0887"
                          ],
                          [
                            0.1111111111111111,
                            "#46039f"
                          ],
                          [
                            0.2222222222222222,
                            "#7201a8"
                          ],
                          [
                            0.3333333333333333,
                            "#9c179e"
                          ],
                          [
                            0.4444444444444444,
                            "#bd3786"
                          ],
                          [
                            0.5555555555555556,
                            "#d8576b"
                          ],
                          [
                            0.6666666666666666,
                            "#ed7953"
                          ],
                          [
                            0.7777777777777778,
                            "#fb9f3a"
                          ],
                          [
                            0.8888888888888888,
                            "#fdca26"
                          ],
                          [
                            1,
                            "#f0f921"
                          ]
                        ],
                        "type": "histogram2d"
                      }
                    ],
                    "histogram2dcontour": [
                      {
                        "colorbar": {
                          "outlinewidth": 0,
                          "ticks": ""
                        },
                        "colorscale": [
                          [
                            0,
                            "#0d0887"
                          ],
                          [
                            0.1111111111111111,
                            "#46039f"
                          ],
                          [
                            0.2222222222222222,
                            "#7201a8"
                          ],
                          [
                            0.3333333333333333,
                            "#9c179e"
                          ],
                          [
                            0.4444444444444444,
                            "#bd3786"
                          ],
                          [
                            0.5555555555555556,
                            "#d8576b"
                          ],
                          [
                            0.6666666666666666,
                            "#ed7953"
                          ],
                          [
                            0.7777777777777778,
                            "#fb9f3a"
                          ],
                          [
                            0.8888888888888888,
                            "#fdca26"
                          ],
                          [
                            1,
                            "#f0f921"
                          ]
                        ],
                        "type": "histogram2dcontour"
                      }
                    ],
                    "mesh3d": [
                      {
                        "colorbar": {
                          "outlinewidth": 0,
                          "ticks": ""
                        },
                        "type": "mesh3d"
                      }
                    ],
                    "parcoords": [
                      {
                        "line": {
                          "colorbar": {
                            "outlinewidth": 0,
                            "ticks": ""
                          }
                        },
                        "type": "parcoords"
                      }
                    ],
                    "pie": [
                      {
                        "automargin": true,
                        "type": "pie"
                      }
                    ],
                    "scatter": [
                      {
                        "fillpattern": {
                          "fillmode": "overlay",
                          "size": 10,
                          "solidity": 0.2
                        },
                        "type": "scatter"
                      }
                    ],
                    "scatter3d": [
                      {
                        "line": {
                          "colorbar": {
                            "outlinewidth": 0,
                            "ticks": ""
                          }
                        },
                        "marker": {
                          "colorbar": {
                            "outlinewidth": 0,
                            "ticks": ""
                          }
                        },
                        "type": "scatter3d"
                      }
                    ],
                    "scattercarpet": [
                      {
                        "marker": {
                          "colorbar": {
                            "outlinewidth": 0,
                            "ticks": ""
                          }
                        },
                        "type": "scattercarpet"
                      }
                    ],
                    "scattergeo": [
                      {
                        "marker": {
                          "colorbar": {
                            "outlinewidth": 0,
                            "ticks": ""
                          }
                        },
                        "type": "scattergeo"
                      }
                    ],
                    "scattergl": [
                      {
                        "marker": {
                          "colorbar": {
                            "outlinewidth": 0,
                            "ticks": ""
                          }
                        },
                        "type": "scattergl"
                      }
                    ],
                    "scattermap": [
                      {
                        "marker": {
                          "colorbar": {
                            "outlinewidth": 0,
                            "ticks": ""
                          }
                        },
                        "type": "scattermap"
                      }
                    ],
                    "scattermapbox": [
                      {
                        "marker": {
                          "colorbar": {
                            "outlinewidth": 0,
                            "ticks": ""
                          }
                        },
                        "type": "scattermapbox"
                      }
                    ],
                    "scatterpolar": [
                      {
                        "marker": {
                          "colorbar": {
                            "outlinewidth": 0,
                            "ticks": ""
                          }
                        },
                        "type": "scatterpolar"
                      }
                    ],
                    "scatterpolargl": [
                      {
                        "marker": {
                          "colorbar": {
                            "outlinewidth": 0,
                            "ticks": ""
                          }
                        },
                        "type": "scatterpolargl"
                      }
                    ],
                    "scatterternary": [
                      {
                        "marker": {
                          "colorbar": {
                            "outlinewidth": 0,
                            "ticks": ""
                          }
                        },
                        "type": "scatterternary"
                      }
                    ],
                    "surface": [
                      {
                        "colorbar": {
                          "outlinewidth": 0,
                          "ticks": ""
                        },
                        "colorscale": [
                          [
                            0,
                            "#0d0887"
                          ],
                          [
                            0.1111111111111111,
                            "#46039f"
                          ],
                          [
                            0.2222222222222222,
                            "#7201a8"
                          ],
                          [
                            0.3333333333333333,
                            "#9c179e"
                          ],
                          [
                            0.4444444444444444,
                            "#bd3786"
                          ],
                          [
                            0.5555555555555556,
                            "#d8576b"
                          ],
                          [
                            0.6666666666666666,
                            "#ed7953"
                          ],
                          [
                            0.7777777777777778,
                            "#fb9f3a"
                          ],
                          [
                            0.8888888888888888,
                            "#fdca26"
                          ],
                          [
                            1,
                            "#f0f921"
                          ]
                        ],
                        "type": "surface"
                      }
                    ],
                    "table": [
                      {
                        "cells": {
                          "fill": {
                            "color": "#EBF0F8"
                          },
                          "line": {
                            "color": "white"
                          }
                        },
                        "header": {
                          "fill": {
                            "color": "#C8D4E3"
                          },
                          "line": {
                            "color": "white"
                          }
                        },
                        "type": "table"
                      }
                    ]
                  },
                  "layout": {
                    "annotationdefaults": {
                      "arrowcolor": "#2a3f5f",
                      "arrowhead": 0,
                      "arrowwidth": 1
                    },
                    "autotypenumbers": "strict",
                    "coloraxis": {
                      "colorbar": {
                        "outlinewidth": 0,
                        "ticks": ""
                      }
                    },
                    "colorscale": {
                      "diverging": [
                        [
                          0,
                          "#8e0152"
                        ],
                        [
                          0.1,
                          "#c51b7d"
                        ],
                        [
                          0.2,
                          "#de77ae"
                        ],
                        [
                          0.3,
                          "#f1b6da"
                        ],
                        [
                          0.4,
                          "#fde0ef"
                        ],
                        [
                          0.5,
                          "#f7f7f7"
                        ],
                        [
                          0.6,
                          "#e6f5d0"
                        ],
                        [
                          0.7,
                          "#b8e186"
                        ],
                        [
                          0.8,
                          "#7fbc41"
                        ],
                        [
                          0.9,
                          "#4d9221"
                        ],
                        [
                          1,
                          "#276419"
                        ]
                      ],
                      "sequential": [
                        [
                          0,
                          "#0d0887"
                        ],
                        [
                          0.1111111111111111,
                          "#46039f"
                        ],
                        [
                          0.2222222222222222,
                          "#7201a8"
                        ],
                        [
                          0.3333333333333333,
                          "#9c179e"
                        ],
                        [
                          0.4444444444444444,
                          "#bd3786"
                        ],
                        [
                          0.5555555555555556,
                          "#d8576b"
                        ],
                        [
                          0.6666666666666666,
                          "#ed7953"
                        ],
                        [
                          0.7777777777777778,
                          "#fb9f3a"
                        ],
                        [
                          0.8888888888888888,
                          "#fdca26"
                        ],
                        [
                          1,
                          "#f0f921"
                        ]
                      ],
                      "sequentialminus": [
                        [
                          0,
                          "#0d0887"
                        ],
                        [
                          0.1111111111111111,
                          "#46039f"
                        ],
                        [
                          0.2222222222222222,
                          "#7201a8"
                        ],
                        [
                          0.3333333333333333,
                          "#9c179e"
                        ],
                        [
                          0.4444444444444444,
                          "#bd3786"
                        ],
                        [
                          0.5555555555555556,
                          "#d8576b"
                        ],
                        [
                          0.6666666666666666,
                          "#ed7953"
                        ],
                        [
                          0.7777777777777778,
                          "#fb9f3a"
                        ],
                        [
                          0.8888888888888888,
                          "#fdca26"
                        ],
                        [
                          1,
                          "#f0f921"
                        ]
                      ]
                    },
                    "colorway": [
                      "#636efa",
                      "#EF553B",
                      "#00cc96",
                      "#ab63fa",
                      "#FFA15A",
                      "#19d3f3",
                      "#FF6692",
                      "#B6E880",
                      "#FF97FF",
                      "#FECB52"
                    ],
                    "font": {
                      "color": "#2a3f5f"
                    },
                    "geo": {
                      "bgcolor": "white",
                      "lakecolor": "white",
                      "landcolor": "#E5ECF6",
                      "showlakes": true,
                      "showland": true,
                      "subunitcolor": "white"
                    },
                    "hoverlabel": {
                      "align": "left"
                    },
                    "hovermode": "closest",
                    "mapbox": {
                      "style": "light"
                    },
                    "paper_bgcolor": "white",
                    "plot_bgcolor": "#E5ECF6",
                    "polar": {
                      "angularaxis": {
                        "gridcolor": "white",
                        "linecolor": "white",
                        "ticks": ""
                      },
                      "bgcolor": "#E5ECF6",
                      "radialaxis": {
                        "gridcolor": "white",
                        "linecolor": "white",
                        "ticks": ""
                      }
                    },
                    "scene": {
                      "xaxis": {
                        "backgroundcolor": "#E5ECF6",
                        "gridcolor": "white",
                        "gridwidth": 2,
                        "linecolor": "white",
                        "showbackground": true,
                        "ticks": "",
                        "zerolinecolor": "white"
                      },
                      "yaxis": {
                        "backgroundcolor": "#E5ECF6",
                        "gridcolor": "white",
                        "gridwidth": 2,
                        "linecolor": "white",
                        "showbackground": true,
                        "ticks": "",
                        "zerolinecolor": "white"
                      },
                      "zaxis": {
                        "backgroundcolor": "#E5ECF6",
                        "gridcolor": "white",
                        "gridwidth": 2,
                        "linecolor": "white",
                        "showbackground": true,
                        "ticks": "",
                        "zerolinecolor": "white"
                      }
                    },
                    "shapedefaults": {
                      "line": {
                        "color": "#2a3f5f"
                      }
                    },
                    "ternary": {
                      "aaxis": {
                        "gridcolor": "white",
                        "linecolor": "white",
                        "ticks": ""
                      },
                      "baxis": {
                        "gridcolor": "white",
                        "linecolor": "white",
                        "ticks": ""
                      },
                      "bgcolor": "#E5ECF6",
                      "caxis": {
                        "gridcolor": "white",
                        "linecolor": "white",
                        "ticks": ""
                      }
                    },
                    "title": {
                      "x": 0.05
                    },
                    "xaxis": {
                      "automargin": true,
                      "gridcolor": "white",
                      "linecolor": "white",
                      "ticks": "",
                      "title": {
                        "standoff": 15
                      },
                      "zerolinecolor": "white",
                      "zerolinewidth": 2
                    },
                    "yaxis": {
                      "automargin": true,
                      "gridcolor": "white",
                      "linecolor": "white",
                      "ticks": "",
                      "title": {
                        "standoff": 15
                      },
                      "zerolinecolor": "white",
                      "zerolinewidth": 2
                    }
                  }
                },
                "title": {
                  "text": "Top 15 Legislators by Cross-Party Support to Their Bills (Source A)"
                },
                "xaxis": {
                  "anchor": "y",
                  "domain": [
                    0,
                    1
                  ],
                  "title": {
                    "text": "Number of Bills with Cross-Party Cosponsors"
                  }
                },
                "yaxis": {
                  "anchor": "x",
                  "autorange": "reversed",
                  "domain": [
                    0,
                    1
                  ],
                  "title": {
                    "text": "Primary Sponsor"
                  }
                }
              }
            }
          },
          "metadata": {},
          "output_type": "display_data"
        }
      ],
      "source": [
        "# Bar chart — Source A: Top Cross-Party Bill Authors\n",
        "top_authors = ranked_result.sort_values(\n",
        "    by=\"num_bills_with_cross_party_cosponsors\", ascending=False\n",
        ").head(15)\n",
        "\n",
        "fig_authors = px.bar(\n",
        "    top_authors,\n",
        "    x=\"num_bills_with_cross_party_cosponsors\",\n",
        "    y=\"primary_name\",\n",
        "    orientation=\"h\",\n",
        "    color=\"num_bills_with_cross_party_cosponsors\",\n",
        "    color_continuous_scale=ordered_purples[::-1],\n",
        "    title=\"Top 15 Legislators by Cross-Party Support to Their Bills (Source A)\"\n",
        ")\n",
        "\n",
        "fig_authors.update_layout(\n",
        "    xaxis_title=\"Number of Bills with Cross-Party Cosponsors\",\n",
        "    yaxis_title=\"Primary Sponsor\",\n",
        "    yaxis=dict(autorange=\"reversed\"),\n",
        "    plot_bgcolor=\"#ffffff\",\n",
        "    paper_bgcolor=\"#ffffff\",\n",
        "    coloraxis_showscale=False,\n",
        "    margin=dict(l=100, r=20, t=60, b=40)\n",
        ")\n",
        "\n",
        "fig_authors.show()"
      ]
    }
  ],
  "metadata": {
    "colab": {
      "provenance": []
    },
    "kernelspec": {
      "display_name": "bridge_grades",
      "language": "python",
      "name": "python3"
    },
    "language_info": {
      "codemirror_mode": {
        "name": "ipython",
        "version": 3
      },
      "file_extension": ".py",
      "mimetype": "text/x-python",
      "name": "python",
      "nbconvert_exporter": "python",
      "pygments_lexer": "ipython3",
      "version": "3.11.13"
    }
  },
  "nbformat": 4,
  "nbformat_minor": 5
}
